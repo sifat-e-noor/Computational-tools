{
 "cells": [
  {
   "cell_type": "markdown",
   "id": "9e15255f",
   "metadata": {},
   "source": [
    "###### About Data\n",
    "- For our project, we choose dataset from `TripAdvisor` having restaurant data across 7 major states in USA from [`kaggle`](https://www.kaggle.com/datasets/siddharthmandgi/tripadvisor-restaurant-recommendation-data-usa).\n",
    "- This dataset was scraped from the TripAdvisor website and it conatins restaurant data across 20 cities in Washington, Texas, California, New York, Pensi, New Jersey and Oregon and Pennsylvania.\n",
    "\n",
    "*Note:* Our dataset file can be accessible here on [github](https://github.com/sifat-e-noor/Recommendation-system)."
   ]
  },
  {
   "cell_type": "markdown",
   "id": "09256d03",
   "metadata": {},
   "source": [
    "###### Format and Clean the Dataset\n",
    "\n",
    "For our further analysis to buil a resturant recommendation system, we clean and format the data set as per requirement. \n",
    "\n",
    "To find out issues with our choosen dataset, we will do the followings-\n",
    "- Check for missing values for overall dataset\n",
    "- Check closely for subtle values in other coulmn(s) through unique values except missing values column(s)\n",
    "- Check closely for non-relatable strings except missing values column(s)\n",
    "- Drop NaN values from required row(s)/column(s) \n",
    "- Fix unrelatable data values \n",
    "- Drop non require row(s)/column(s)\n",
    "- Chnage data type (if require)\n",
    "- Reorder column(s) and reset index (if require)"
   ]
  },
  {
   "cell_type": "markdown",
   "id": "3b4b3e01",
   "metadata": {},
   "source": [
    "##### All important import(s) goes here"
   ]
  },
  {
   "cell_type": "code",
   "execution_count": 1,
   "id": "7a36b461",
   "metadata": {},
   "outputs": [],
   "source": [
    "import os\n",
    "import numpy as np\n",
    "import pandas as pd\n",
    "import requests"
   ]
  },
  {
   "cell_type": "markdown",
   "id": "31012d27",
   "metadata": {},
   "source": [
    "###### Download dataset (.csv) file from github"
   ]
  },
  {
   "cell_type": "code",
   "execution_count": 2,
   "id": "547dca08",
   "metadata": {},
   "outputs": [],
   "source": [
    "# Functin to download file from github\n",
    "def file_exist(file_name):\n",
    "    return file_name in os.listdir(os.getcwd())\n",
    "def download_file(url,file_name):\n",
    "    if file_exist(file_name):\n",
    "        return\n",
    "    response = requests.get(url)\n",
    "    open(file_name, \"wb\").write(response.content)"
   ]
  },
  {
   "cell_type": "code",
   "execution_count": 3,
   "id": "6c261e83",
   "metadata": {},
   "outputs": [
    {
     "name": "stdout",
     "output_type": "stream",
     "text": [
      "Our dataset's first 3 data:\n"
     ]
    },
    {
     "data": {
      "text/html": [
       "<div>\n",
       "<style scoped>\n",
       "    .dataframe tbody tr th:only-of-type {\n",
       "        vertical-align: middle;\n",
       "    }\n",
       "\n",
       "    .dataframe tbody tr th {\n",
       "        vertical-align: top;\n",
       "    }\n",
       "\n",
       "    .dataframe thead th {\n",
       "        text-align: right;\n",
       "    }\n",
       "</style>\n",
       "<table border=\"1\" class=\"dataframe\">\n",
       "  <thead>\n",
       "    <tr style=\"text-align: right;\">\n",
       "      <th></th>\n",
       "      <th>Name</th>\n",
       "      <th>Street Address</th>\n",
       "      <th>Location</th>\n",
       "      <th>Type</th>\n",
       "      <th>Reviews</th>\n",
       "      <th>No of Reviews</th>\n",
       "      <th>Comments</th>\n",
       "      <th>Contact Number</th>\n",
       "      <th>Trip_advisor Url</th>\n",
       "      <th>Menu</th>\n",
       "      <th>Price_Range</th>\n",
       "    </tr>\n",
       "  </thead>\n",
       "  <tbody>\n",
       "    <tr>\n",
       "      <th>0</th>\n",
       "      <td>Betty Lou's Seafood and Grill</td>\n",
       "      <td>318 Columbus Ave</td>\n",
       "      <td>San Francisco, CA 94133-3908</td>\n",
       "      <td>Seafood, Vegetarian Friendly, Vegan Options</td>\n",
       "      <td>4.5 of 5 bubbles</td>\n",
       "      <td>243 reviews</td>\n",
       "      <td>NaN</td>\n",
       "      <td>+1 415-757-0569</td>\n",
       "      <td>https://www.tripadvisor.com//Restaurant_Review...</td>\n",
       "      <td>Check The Website for a Menu</td>\n",
       "      <td>$$ - $$$</td>\n",
       "    </tr>\n",
       "    <tr>\n",
       "      <th>1</th>\n",
       "      <td>Coach House Diner</td>\n",
       "      <td>55 State Rt 4</td>\n",
       "      <td>Hackensack, NJ 07601-6337</td>\n",
       "      <td>Diner, American, Vegetarian Friendly</td>\n",
       "      <td>4 of 5 bubbles</td>\n",
       "      <td>84 reviews</td>\n",
       "      <td>Both times we were there very late, after 11 P...</td>\n",
       "      <td>+1 201-488-4999</td>\n",
       "      <td>https://www.tripadvisor.com//Restaurant_Review...</td>\n",
       "      <td>Check The Website for a Menu</td>\n",
       "      <td>$$ - $$$</td>\n",
       "    </tr>\n",
       "    <tr>\n",
       "      <th>2</th>\n",
       "      <td>Table Talk Diner</td>\n",
       "      <td>2521 South Rd Ste C</td>\n",
       "      <td>Poughkeepsie, NY 12601-5476</td>\n",
       "      <td>American, Diner, Vegetarian Friendly</td>\n",
       "      <td>4 of 5 bubbles</td>\n",
       "      <td>256 reviews</td>\n",
       "      <td>Waitress was very friendly but a little pricey...</td>\n",
       "      <td>+1 845-849-2839</td>\n",
       "      <td>https://www.tripadvisor.com//Restaurant_Review...</td>\n",
       "      <td>http://tabletalkdiner.com/menu/breakfast/</td>\n",
       "      <td>$$ - $$$</td>\n",
       "    </tr>\n",
       "  </tbody>\n",
       "</table>\n",
       "</div>"
      ],
      "text/plain": [
       "                            Name       Street Address  \\\n",
       "0  Betty Lou's Seafood and Grill     318 Columbus Ave   \n",
       "1              Coach House Diner        55 State Rt 4   \n",
       "2               Table Talk Diner  2521 South Rd Ste C   \n",
       "\n",
       "                       Location                                          Type  \\\n",
       "0  San Francisco, CA 94133-3908   Seafood, Vegetarian Friendly, Vegan Options   \n",
       "1     Hackensack, NJ 07601-6337          Diner, American, Vegetarian Friendly   \n",
       "2   Poughkeepsie, NY 12601-5476          American, Diner, Vegetarian Friendly   \n",
       "\n",
       "            Reviews No of Reviews  \\\n",
       "0  4.5 of 5 bubbles   243 reviews   \n",
       "1    4 of 5 bubbles    84 reviews   \n",
       "2    4 of 5 bubbles   256 reviews   \n",
       "\n",
       "                                            Comments   Contact Number  \\\n",
       "0                                                NaN  +1 415-757-0569   \n",
       "1  Both times we were there very late, after 11 P...  +1 201-488-4999   \n",
       "2  Waitress was very friendly but a little pricey...  +1 845-849-2839   \n",
       "\n",
       "                                    Trip_advisor Url  \\\n",
       "0  https://www.tripadvisor.com//Restaurant_Review...   \n",
       "1  https://www.tripadvisor.com//Restaurant_Review...   \n",
       "2  https://www.tripadvisor.com//Restaurant_Review...   \n",
       "\n",
       "                                        Menu Price_Range  \n",
       "0               Check The Website for a Menu    $$ - $$$  \n",
       "1               Check The Website for a Menu    $$ - $$$  \n",
       "2  http://tabletalkdiner.com/menu/breakfast/    $$ - $$$  "
      ]
     },
     "execution_count": 3,
     "metadata": {},
     "output_type": "execute_result"
    }
   ],
   "source": [
    "# Load the dataset from git\n",
    "url = \"https://github.com/sifat-e-noor/Recommendation-system/raw/main/Data/TripAdvisor_RestauarantRecommendation.csv\"\n",
    "download_file(url,\"TripAdvisor_RestauarantRecommendation.csv\")\n",
    "df_dataset = pd.read_csv(\"TripAdvisor_RestauarantRecommendation.csv\")\n",
    "\n",
    "# View the dataset's first 3 data\n",
    "print(f\"Our dataset's first 3 data:\")\n",
    "df_dataset.head(3)\n",
    "# View full dataset\n",
    "# df_dataset"
   ]
  },
  {
   "cell_type": "code",
   "execution_count": 4,
   "id": "68537b57",
   "metadata": {},
   "outputs": [
    {
     "name": "stdout",
     "output_type": "stream",
     "text": [
      "Shape of dataset (3062, 11)\n",
      "Size of dataset 33682\n",
      "It has 3062 rows, and 11 columns titled ase:\n",
      "1 Name\n",
      "2 Street Address\n",
      "3 Location\n",
      "4 Type\n",
      "5 Reviews\n",
      "6 No of Reviews\n",
      "7 Comments\n",
      "8 Contact Number\n",
      "9 Trip_advisor Url\n",
      "10 Menu\n",
      "11 Price_Range\n"
     ]
    }
   ],
   "source": [
    "# Obtain basic info of dataset (i.e shape, row and column) \n",
    "print(\"Shape of dataset\", df_dataset.shape)\n",
    "print(\"Size of dataset\", df_dataset.size)\n",
    "print(f\"It has {len(df_dataset.axes[0])} rows, and {len(df_dataset.axes[1])} columns titled ase:\")\n",
    "for i, col in enumerate(df_dataset.axes[1]):\n",
    "    print(i+1, col)"
   ]
  },
  {
   "cell_type": "markdown",
   "id": "3eadd886",
   "metadata": {},
   "source": [
    "- From the above observation, we found that our dataset has the following attriutes:\n",
    "\n",
    "__1.__ Name (Name of restuarants), __2.__ Streest Address (Name of the Street), __3.__ Location (City and Zip code), __4.__ Type (Types of cuisines served), __5.__ Reviews (Star Ratings), __6.__ No of Reviews (No. of People who have rated), __7.__ Comments (Customer reviews), __8.__ Contact Number (USA - Phone Number), __9.__ Trip_advisor Url, __10.__ Menu URL, and __11.__ Price_Range. "
   ]
  },
  {
   "cell_type": "markdown",
   "id": "8315276a",
   "metadata": {},
   "source": [
    "- For our further analysis, We dont need columns from 8 - 10 as these columns values do not contribute in our goal's analysis(i.e 8. Contact Number, 9. Menu url, and 10. Trip Advisor Url). Therefore, to make the dataset more viusally manageable within the screensize, we discard these columns."
   ]
  },
  {
   "cell_type": "code",
   "execution_count": 5,
   "id": "71825445",
   "metadata": {},
   "outputs": [
    {
     "name": "stdout",
     "output_type": "stream",
     "text": [
      "Our dataset's first 3 data after dropping out 3 columns:\n"
     ]
    },
    {
     "data": {
      "text/html": [
       "<div>\n",
       "<style scoped>\n",
       "    .dataframe tbody tr th:only-of-type {\n",
       "        vertical-align: middle;\n",
       "    }\n",
       "\n",
       "    .dataframe tbody tr th {\n",
       "        vertical-align: top;\n",
       "    }\n",
       "\n",
       "    .dataframe thead th {\n",
       "        text-align: right;\n",
       "    }\n",
       "</style>\n",
       "<table border=\"1\" class=\"dataframe\">\n",
       "  <thead>\n",
       "    <tr style=\"text-align: right;\">\n",
       "      <th></th>\n",
       "      <th>Name</th>\n",
       "      <th>Street_Address</th>\n",
       "      <th>Location</th>\n",
       "      <th>Type</th>\n",
       "      <th>Reviews</th>\n",
       "      <th>No_of_Reviews</th>\n",
       "      <th>Comments</th>\n",
       "      <th>Price_Range</th>\n",
       "    </tr>\n",
       "  </thead>\n",
       "  <tbody>\n",
       "    <tr>\n",
       "      <th>0</th>\n",
       "      <td>Betty Lou's Seafood and Grill</td>\n",
       "      <td>318 Columbus Ave</td>\n",
       "      <td>San Francisco, CA 94133-3908</td>\n",
       "      <td>Seafood, Vegetarian Friendly, Vegan Options</td>\n",
       "      <td>4.5 of 5 bubbles</td>\n",
       "      <td>243 reviews</td>\n",
       "      <td>NaN</td>\n",
       "      <td>$$ - $$$</td>\n",
       "    </tr>\n",
       "    <tr>\n",
       "      <th>1</th>\n",
       "      <td>Coach House Diner</td>\n",
       "      <td>55 State Rt 4</td>\n",
       "      <td>Hackensack, NJ 07601-6337</td>\n",
       "      <td>Diner, American, Vegetarian Friendly</td>\n",
       "      <td>4 of 5 bubbles</td>\n",
       "      <td>84 reviews</td>\n",
       "      <td>Both times we were there very late, after 11 P...</td>\n",
       "      <td>$$ - $$$</td>\n",
       "    </tr>\n",
       "    <tr>\n",
       "      <th>2</th>\n",
       "      <td>Table Talk Diner</td>\n",
       "      <td>2521 South Rd Ste C</td>\n",
       "      <td>Poughkeepsie, NY 12601-5476</td>\n",
       "      <td>American, Diner, Vegetarian Friendly</td>\n",
       "      <td>4 of 5 bubbles</td>\n",
       "      <td>256 reviews</td>\n",
       "      <td>Waitress was very friendly but a little pricey...</td>\n",
       "      <td>$$ - $$$</td>\n",
       "    </tr>\n",
       "    <tr>\n",
       "      <th>3</th>\n",
       "      <td>Sixty Vines</td>\n",
       "      <td>3701 Dallas Pkwy</td>\n",
       "      <td>Plano, TX 75093-7777</td>\n",
       "      <td>American, Wine Bar, Vegetarian Friendly</td>\n",
       "      <td>4.5 of 5 bubbles</td>\n",
       "      <td>235 reviews</td>\n",
       "      <td>Not sure why I went there for the second time....</td>\n",
       "      <td>$$ - $$$</td>\n",
       "    </tr>\n",
       "    <tr>\n",
       "      <th>4</th>\n",
       "      <td>The Clam Bar</td>\n",
       "      <td>3914 Brewerton Rd</td>\n",
       "      <td>Syracuse, NY 13212</td>\n",
       "      <td>American, Bar, Seafood</td>\n",
       "      <td>4 of 5 bubbles</td>\n",
       "      <td>285 reviews</td>\n",
       "      <td>Doesn't look like much from the outside but wa...</td>\n",
       "      <td>$$ - $$$</td>\n",
       "    </tr>\n",
       "    <tr>\n",
       "      <th>...</th>\n",
       "      <td>...</td>\n",
       "      <td>...</td>\n",
       "      <td>...</td>\n",
       "      <td>...</td>\n",
       "      <td>...</td>\n",
       "      <td>...</td>\n",
       "      <td>...</td>\n",
       "      <td>...</td>\n",
       "    </tr>\n",
       "    <tr>\n",
       "      <th>3057</th>\n",
       "      <td>Indigo Kitchen &amp; Ale House</td>\n",
       "      <td>2902 164th St SW</td>\n",
       "      <td>Lynnwood, WA 98087-3201</td>\n",
       "      <td>American, Bar, Vegetarian Friendly</td>\n",
       "      <td>4.5 of 5 bubbles</td>\n",
       "      <td>198 reviews</td>\n",
       "      <td>We had to wait a few minutes to get it but it ...</td>\n",
       "      <td>$$ - $$$</td>\n",
       "    </tr>\n",
       "    <tr>\n",
       "      <th>3058</th>\n",
       "      <td>City Vineyard</td>\n",
       "      <td>233 West Street</td>\n",
       "      <td>New York City, NY 10013</td>\n",
       "      <td>American, Bar, Seafood</td>\n",
       "      <td>4.5 of 5 bubbles</td>\n",
       "      <td>374 reviews</td>\n",
       "      <td>Came here to see Andrea Gibson perform, we wer...</td>\n",
       "      <td>$$ - $$$</td>\n",
       "    </tr>\n",
       "    <tr>\n",
       "      <th>3059</th>\n",
       "      <td>BRIO Tuscan Grille</td>\n",
       "      <td>3710 US Highway 9</td>\n",
       "      <td>Freehold, NJ 07728-4801</td>\n",
       "      <td>Steakhouse, Italian, Bar</td>\n",
       "      <td>4 of 5 bubbles</td>\n",
       "      <td>211 reviews</td>\n",
       "      <td>We come to Brio once a month. They are good fo...</td>\n",
       "      <td>$$ - $$$</td>\n",
       "    </tr>\n",
       "    <tr>\n",
       "      <th>3060</th>\n",
       "      <td>Maywood Pancake house</td>\n",
       "      <td>92 W Pleasant Ave</td>\n",
       "      <td>Maywood, NJ 07607-1336</td>\n",
       "      <td>American, Vegan Options, Gluten Free Options</td>\n",
       "      <td>4 of 5 bubbles</td>\n",
       "      <td>87 reviews</td>\n",
       "      <td>Stopped in yesterday for Breakfast. When in Je...</td>\n",
       "      <td>$$ - $$$</td>\n",
       "    </tr>\n",
       "    <tr>\n",
       "      <th>3061</th>\n",
       "      <td>Porto Leggero</td>\n",
       "      <td>Harborside Financial Center - Plaza 5</td>\n",
       "      <td>Jersey City, NJ 07311</td>\n",
       "      <td>Italian, Vegetarian Friendly, Vegan Options</td>\n",
       "      <td>4.5 of 5 bubbles</td>\n",
       "      <td>183 reviews</td>\n",
       "      <td>First time for dinner. 2 couples. Delicious mu...</td>\n",
       "      <td>$$$$</td>\n",
       "    </tr>\n",
       "  </tbody>\n",
       "</table>\n",
       "<p>3062 rows × 8 columns</p>\n",
       "</div>"
      ],
      "text/plain": [
       "                               Name                         Street_Address  \\\n",
       "0     Betty Lou's Seafood and Grill                       318 Columbus Ave   \n",
       "1                 Coach House Diner                          55 State Rt 4   \n",
       "2                  Table Talk Diner                    2521 South Rd Ste C   \n",
       "3                       Sixty Vines                       3701 Dallas Pkwy   \n",
       "4                      The Clam Bar                      3914 Brewerton Rd   \n",
       "...                             ...                                    ...   \n",
       "3057     Indigo Kitchen & Ale House                       2902 164th St SW   \n",
       "3058                  City Vineyard                        233 West Street   \n",
       "3059             BRIO Tuscan Grille                      3710 US Highway 9   \n",
       "3060          Maywood Pancake house                      92 W Pleasant Ave   \n",
       "3061                  Porto Leggero  Harborside Financial Center - Plaza 5   \n",
       "\n",
       "                          Location  \\\n",
       "0     San Francisco, CA 94133-3908   \n",
       "1        Hackensack, NJ 07601-6337   \n",
       "2      Poughkeepsie, NY 12601-5476   \n",
       "3             Plano, TX 75093-7777   \n",
       "4               Syracuse, NY 13212   \n",
       "...                            ...   \n",
       "3057       Lynnwood, WA 98087-3201   \n",
       "3058       New York City, NY 10013   \n",
       "3059       Freehold, NJ 07728-4801   \n",
       "3060        Maywood, NJ 07607-1336   \n",
       "3061         Jersey City, NJ 07311   \n",
       "\n",
       "                                               Type           Reviews  \\\n",
       "0       Seafood, Vegetarian Friendly, Vegan Options  4.5 of 5 bubbles   \n",
       "1              Diner, American, Vegetarian Friendly    4 of 5 bubbles   \n",
       "2              American, Diner, Vegetarian Friendly    4 of 5 bubbles   \n",
       "3           American, Wine Bar, Vegetarian Friendly  4.5 of 5 bubbles   \n",
       "4                            American, Bar, Seafood    4 of 5 bubbles   \n",
       "...                                             ...               ...   \n",
       "3057             American, Bar, Vegetarian Friendly  4.5 of 5 bubbles   \n",
       "3058                         American, Bar, Seafood  4.5 of 5 bubbles   \n",
       "3059                       Steakhouse, Italian, Bar    4 of 5 bubbles   \n",
       "3060   American, Vegan Options, Gluten Free Options    4 of 5 bubbles   \n",
       "3061    Italian, Vegetarian Friendly, Vegan Options  4.5 of 5 bubbles   \n",
       "\n",
       "     No_of_Reviews                                           Comments  \\\n",
       "0      243 reviews                                                NaN   \n",
       "1       84 reviews  Both times we were there very late, after 11 P...   \n",
       "2      256 reviews  Waitress was very friendly but a little pricey...   \n",
       "3      235 reviews  Not sure why I went there for the second time....   \n",
       "4      285 reviews  Doesn't look like much from the outside but wa...   \n",
       "...            ...                                                ...   \n",
       "3057   198 reviews  We had to wait a few minutes to get it but it ...   \n",
       "3058   374 reviews  Came here to see Andrea Gibson perform, we wer...   \n",
       "3059   211 reviews  We come to Brio once a month. They are good fo...   \n",
       "3060    87 reviews  Stopped in yesterday for Breakfast. When in Je...   \n",
       "3061   183 reviews  First time for dinner. 2 couples. Delicious mu...   \n",
       "\n",
       "     Price_Range  \n",
       "0       $$ - $$$  \n",
       "1       $$ - $$$  \n",
       "2       $$ - $$$  \n",
       "3       $$ - $$$  \n",
       "4       $$ - $$$  \n",
       "...          ...  \n",
       "3057    $$ - $$$  \n",
       "3058    $$ - $$$  \n",
       "3059    $$ - $$$  \n",
       "3060    $$ - $$$  \n",
       "3061        $$$$  \n",
       "\n",
       "[3062 rows x 8 columns]"
      ]
     },
     "execution_count": 5,
     "metadata": {},
     "output_type": "execute_result"
    }
   ],
   "source": [
    "# Drop columns form 8-10(i.e 8. Contact Number, 9 Trip_advisor Url, 10 Menu) \n",
    "df_new_dataset = df_dataset.drop(df_dataset.loc[:, 'Contact Number':'Menu'].columns, axis=1)\n",
    "\n",
    "# Rename 2 columns to check those columns' values\n",
    "df_new_dataset.rename(columns = {'Street Address':'Street_Address', 'No of Reviews':'No_of_Reviews'}, inplace = True)\n",
    "\n",
    "# View the dataset's first 3 data\n",
    "print(f\"Our dataset's first 3 data after dropping out 3 columns:\")\n",
    "# df_new_dataset.head(3)\n",
    "df_new_dataset"
   ]
  },
  {
   "cell_type": "markdown",
   "id": "2f4e0c4f",
   "metadata": {},
   "source": [
    "- To find issues (i.e. missing values) in our data set, we get dataset's basic info first."
   ]
  },
  {
   "cell_type": "code",
   "execution_count": 6,
   "id": "6c4fda0d",
   "metadata": {},
   "outputs": [
    {
     "name": "stdout",
     "output_type": "stream",
     "text": [
      "Basic info of dataset:\n",
      "\n",
      "<class 'pandas.core.frame.DataFrame'>\n",
      "RangeIndex: 3062 entries, 0 to 3061\n",
      "Data columns (total 8 columns):\n",
      " #   Column          Non-Null Count  Dtype \n",
      "---  ------          --------------  ----- \n",
      " 0   Name            3062 non-null   object\n",
      " 1   Street_Address  3062 non-null   object\n",
      " 2   Location        3062 non-null   object\n",
      " 3   Type            3049 non-null   object\n",
      " 4   Reviews         3062 non-null   object\n",
      " 5   No_of_Reviews   3062 non-null   object\n",
      " 6   Comments        2447 non-null   object\n",
      " 7   Price_Range     3062 non-null   object\n",
      "dtypes: object(8)\n",
      "memory usage: 191.5+ KB\n",
      "\n",
      "\n",
      "Follwing Columns have missing values:\n"
     ]
    },
    {
     "data": {
      "text/plain": [
       "Name                0\n",
       "Street_Address      0\n",
       "Location            0\n",
       "Type               13\n",
       "Reviews             0\n",
       "No_of_Reviews       0\n",
       "Comments          615\n",
       "Price_Range         0\n",
       "dtype: int64"
      ]
     },
     "execution_count": 6,
     "metadata": {},
     "output_type": "execute_result"
    }
   ],
   "source": [
    "# View dataset's per columns overall basic info\n",
    "print('Basic info of dataset:\\n') \n",
    "df_new_dataset.info()\n",
    "print('\\n')\n",
    "# Find dataset's overall missing values per columns\n",
    "print('Follwing Columns have missing values:')\n",
    "df_new_dataset.isnull().sum()"
   ]
  },
  {
   "cell_type": "markdown",
   "id": "eabba8ad",
   "metadata": {},
   "source": [
    "- Check closely for subtle values"
   ]
  },
  {
   "cell_type": "code",
   "execution_count": 7,
   "id": "ae4ed8de",
   "metadata": {},
   "outputs": [
    {
     "name": "stdout",
     "output_type": "stream",
     "text": [
      "Name column has: 2641 data\n",
      "Unique values of Name column:\n"
     ]
    },
    {
     "data": {
      "text/plain": [
       "array([\"Betty Lou's Seafood and Grill\", 'Coach House Diner',\n",
       "       'Table Talk Diner', ..., 'BRIO Tuscan Grille',\n",
       "       'Maywood Pancake house', 'Porto Leggero'], dtype=object)"
      ]
     },
     "execution_count": 7,
     "metadata": {},
     "output_type": "execute_result"
    }
   ],
   "source": [
    "# Find unique values for each Name column to see there is any non-meaningful string exist\n",
    "print(f'Name column has: {len(df_new_dataset.Name.unique())} data')\n",
    "print(\"Unique values of \"'Name'\" column:\")\n",
    "df_new_dataset.Name.unique()"
   ]
  },
  {
   "cell_type": "code",
   "execution_count": 8,
   "id": "8802319f",
   "metadata": {},
   "outputs": [
    {
     "name": "stdout",
     "output_type": "stream",
     "text": [
      "No unrelateable data exist in Name column\n"
     ]
    }
   ],
   "source": [
    "# As Name column has 3062 data, we can't review all unique values in bare eyes. \n",
    "# Therefore, we check closely Name column to find unrelateable string data\n",
    "is_no_name = False\n",
    "for name in df_new_dataset.Name:    \n",
    "    if name == 'No name' and name == 'Undefined':\n",
    "        is_no_name = True\n",
    "        print(name)\n",
    "    else:\n",
    "        pass\n",
    "if is_no_name == True:\n",
    "    print(\"Unrelatable data exists\")\n",
    "else:\n",
    "    print(\"No unrelateable data exist in Name column\")"
   ]
  },
  {
   "cell_type": "code",
   "execution_count": 9,
   "id": "4df456db",
   "metadata": {},
   "outputs": [
    {
     "name": "stdout",
     "output_type": "stream",
     "text": [
      "Street_Address column has: 2814 data\n",
      "Unique values of Street_Address column:\n"
     ]
    },
    {
     "data": {
      "text/plain": [
       "array([\"Betty Lou's Seafood and Grill\", 'Coach House Diner',\n",
       "       'Table Talk Diner', ..., 'BRIO Tuscan Grille',\n",
       "       'Maywood Pancake house', 'Porto Leggero'], dtype=object)"
      ]
     },
     "execution_count": 9,
     "metadata": {},
     "output_type": "execute_result"
    }
   ],
   "source": [
    "# Find unique values for Street_Address column to see there is any non-meaningful string exist\n",
    "print(f'Street_Address column has: {len(df_new_dataset.Street_Address.unique())} data')\n",
    "print(\"Unique values of \"'Street_Address'\" column:\")\n",
    "df_new_dataset.Name.unique()"
   ]
  },
  {
   "cell_type": "code",
   "execution_count": 10,
   "id": "973d41c4",
   "metadata": {},
   "outputs": [
    {
     "name": "stdout",
     "output_type": "stream",
     "text": [
      "No unrelateable data exists in Street_Address column\n"
     ]
    }
   ],
   "source": [
    "# As Street_Address column has 2813 data, we can't review all unique values in bare eyes. \n",
    "# Therefore, we check closely Street_Address column to find unrelateable string data\n",
    "is_no_address = False\n",
    "for address in df_new_dataset.Street_Address:    \n",
    "    if address == 'No address' and address == 'Undefined':\n",
    "        is_no_address = True\n",
    "        print(address)\n",
    "    else:\n",
    "        pass\n",
    "if is_no_address == True:\n",
    "    print(\"Unrelatable data exists\")\n",
    "else:\n",
    "    print(\"No unrelateable data exists in Street_Address column\")"
   ]
  },
  {
   "cell_type": "code",
   "execution_count": 11,
   "id": "6aa5ee67",
   "metadata": {},
   "outputs": [
    {
     "name": "stdout",
     "output_type": "stream",
     "text": [
      "Location column has: 2653 data\n",
      "Unique values of Location column:\n"
     ]
    },
    {
     "data": {
      "text/plain": [
       "array(['San Francisco, CA 94133-3908', 'Hackensack, NJ 07601-6337',\n",
       "       'Poughkeepsie, NY 12601-5476', ..., 'Freehold, NJ 07728-4801',\n",
       "       'Maywood, NJ 07607-1336', 'Jersey City, NJ 07311'], dtype=object)"
      ]
     },
     "execution_count": 11,
     "metadata": {},
     "output_type": "execute_result"
    }
   ],
   "source": [
    "# Find unique values for Location column to see there is any non-meaningful string exist\n",
    "print(f'Location column has: {len(df_new_dataset.Location.unique())} data')\n",
    "print(\"Unique values of \"'Location'\" column:\")\n",
    "df_new_dataset.Location.unique()"
   ]
  },
  {
   "cell_type": "code",
   "execution_count": 12,
   "id": "32c51016",
   "metadata": {},
   "outputs": [
    {
     "name": "stdout",
     "output_type": "stream",
     "text": [
      "No unrelateable data exist in Location column\n"
     ]
    }
   ],
   "source": [
    "# As Location column has 3062 data, we can't review all unique values in bare eyes. \n",
    "# Therefore, we check closely Location column to find unrelateable string data\n",
    "is_no_location = False\n",
    "for location in df_new_dataset.Location:    \n",
    "    if location == 'No location' and location == 'Undefined':\n",
    "        is_no_location = True\n",
    "        print(location)\n",
    "    else:\n",
    "        pass\n",
    "if is_no_location == True:\n",
    "    print(\"Unrelatable data exists\")\n",
    "else:\n",
    "    print(\"No unrelateable data exist in Location column\")"
   ]
  },
  {
   "cell_type": "code",
   "execution_count": 13,
   "id": "b351de65",
   "metadata": {},
   "outputs": [
    {
     "name": "stdout",
     "output_type": "stream",
     "text": [
      "Reviews column has: 6 data\n",
      "Unique values of Reviews column:\n"
     ]
    },
    {
     "data": {
      "text/plain": [
       "array(['4.5 of 5 bubbles', '4 of 5 bubbles', '5 of 5 bubbles',\n",
       "       '3.5 of 5 bubbles', '3 of 5 bubbles', 'No review'], dtype=object)"
      ]
     },
     "execution_count": 13,
     "metadata": {},
     "output_type": "execute_result"
    }
   ],
   "source": [
    "# Find unique values for Reviews column to see there is any non-meaningful string exist\n",
    "print(f'Reviews column has: {len(df_new_dataset.Reviews.unique())} data')\n",
    "print(\"Unique values of \"'Reviews'\" column:\")\n",
    "df_new_dataset.Reviews.unique()"
   ]
  },
  {
   "cell_type": "code",
   "execution_count": 14,
   "id": "4e9e203d",
   "metadata": {},
   "outputs": [],
   "source": [
    "# To increase readability, we remove redundent words from Reviews column \n",
    "df_new_dataset['Reviews'] = [n.split()[0] for n in df_new_dataset['Reviews']]"
   ]
  },
  {
   "cell_type": "code",
   "execution_count": 15,
   "id": "258278e4",
   "metadata": {},
   "outputs": [
    {
     "name": "stdout",
     "output_type": "stream",
     "text": [
      "No_of_Reviews column has:811 data\n",
      "Unique values of No_of_Reviews column:\n",
      "['243 reviews' '84 reviews' '256 reviews' '235 reviews' '285 reviews'\n",
      " '1,406 reviews' '220 reviews' '89 reviews' '90 reviews' '258 reviews'\n",
      " '271 reviews' '87 reviews' '118 reviews' '706 reviews' '104 reviews'\n",
      " '314 reviews' '193 reviews' '1,198 reviews' '280 reviews' '1,807 reviews'\n",
      " '642 reviews' '928 reviews' '30 reviews' '179 reviews' '746 reviews'\n",
      " '119 reviews' '829 reviews' '515 reviews' '123 reviews' '189 reviews'\n",
      " '39 reviews' '742 reviews' '264 reviews' '399 reviews' '111 reviews'\n",
      " '24 reviews' '187 reviews' '1,653 reviews' '223 reviews' '153 reviews'\n",
      " '240 reviews' '364 reviews' '191 reviews' '775 reviews' '124 reviews'\n",
      " '198 reviews' '292 reviews' '29 reviews' '683 reviews' '27 reviews'\n",
      " '214 reviews' '513 reviews' '44 reviews' '28 reviews' '611 reviews'\n",
      " '307 reviews' '440 reviews' '660 reviews' '413 reviews' '135 reviews'\n",
      " '74 reviews' '160 reviews' '273 reviews' '86 reviews' '932 reviews'\n",
      " '378 reviews' '217 reviews' '437 reviews' '138 reviews' '51 reviews'\n",
      " '100 reviews' '250 reviews' '219 reviews' '184 reviews' '174 reviews'\n",
      " '11 reviews' '58 reviews' '12 reviews' '1,490 reviews' '162 reviews'\n",
      " '401 reviews' '301 reviews' '493 reviews' '54 reviews' '25 reviews'\n",
      " '516 reviews' '282 reviews' '202 reviews' '1,492 reviews' '114 reviews'\n",
      " '108 reviews' '47 reviews' '77 reviews' '166 reviews' '429 reviews'\n",
      " '161 reviews' '182 reviews' '315 reviews' '165 reviews' '412 reviews'\n",
      " '373 reviews' '116 reviews' '210 reviews' '67 reviews' '132 reviews'\n",
      " '404 reviews' '46 reviews' '393 reviews' '545 reviews' '488 reviews'\n",
      " '95 reviews' '379 reviews' '1,788 reviews' '1,371 reviews' '171 reviews'\n",
      " '203 reviews' '65 reviews' '269 reviews' '181 reviews' '368 reviews'\n",
      " '783 reviews' '276 reviews' '262 reviews' '103 reviews' '322 reviews'\n",
      " '441 reviews' '64 reviews' '236 reviews' '350 reviews' '201 reviews'\n",
      " '310 reviews' '332 reviews' '805 reviews' '238 reviews' '23 reviews'\n",
      " '3,274 reviews' '130 reviews' '563 reviews' '532 reviews' '253 reviews'\n",
      " '128 reviews' '144 reviews' '141 reviews' '185 reviews' '150 reviews'\n",
      " '122 reviews' '241 reviews' '209 reviews' '80 reviews' '206 reviews'\n",
      " '137 reviews' '428 reviews' '82 reviews' '311 reviews' '224 reviews'\n",
      " '43 reviews' '40 reviews' '820 reviews' '395 reviews' '593 reviews'\n",
      " '151 reviews' '146 reviews' '317 reviews' '216 reviews' '218 reviews'\n",
      " '239 reviews' '362 reviews' '1,123 reviews' '85 reviews' '21 reviews'\n",
      " '443 reviews' '354 reviews' '55 reviews' '821 reviews' '164 reviews'\n",
      " '211 reviews' '564 reviews' '244 reviews' '56 reviews' '270 reviews'\n",
      " '71 reviews' '670 reviews' '1,633 reviews' '290 reviews' '1,256 reviews'\n",
      " '346 reviews' '13 reviews' '1,544 reviews' '205 reviews' '204 reviews'\n",
      " '319 reviews' '42 reviews' '1,045 reviews' '267 reviews' '170 reviews'\n",
      " '78 reviews' '455 reviews' '147 reviews' '351 reviews' '2,518 reviews'\n",
      " '1,076 reviews' '245 reviews' '261 reviews' '369 reviews' '540 reviews'\n",
      " '148 reviews' '377 reviews' '70 reviews' '53 reviews' '178 reviews'\n",
      " '142 reviews' '1,117 reviews' '897 reviews' '374 reviews' '666 reviews'\n",
      " '982 reviews' '834 reviews' '61 reviews' '386 reviews' '942 reviews'\n",
      " '19 reviews' '59 reviews' '1 review' '157 reviews' '175 reviews'\n",
      " '194 reviews' '232 reviews' '32 reviews' '45 reviews' '113 reviews'\n",
      " '485 reviews' '72 reviews' '37 reviews' '88 reviews' '197 reviews'\n",
      " '274 reviews' '472 reviews' '705 reviews' '808 reviews' '106 reviews'\n",
      " '384 reviews' '712 reviews' '260 reviews' '498 reviews' '22 reviews'\n",
      " '167 reviews' '370 reviews' '172 reviews' '229 reviews' '69 reviews'\n",
      " '892 reviews' '215 reviews' '324 reviews' '697 reviews' '268 reviews'\n",
      " '163 reviews' '231 reviews' '723 reviews' '600 reviews' '36 reviews'\n",
      " '176 reviews' '521 reviews' '287 reviews' '121 reviews' '180 reviews'\n",
      " '49 reviews' '3,775 reviews' '237 reviews' '281 reviews' '133 reviews'\n",
      " '76 reviews' '398 reviews' '207 reviews' '356 reviews' '15 reviews'\n",
      " '304 reviews' '438 reviews' '419 reviews' '94 reviews' '1,381 reviews'\n",
      " '112 reviews' '125 reviews' '678 reviews' '695 reviews' '26 reviews'\n",
      " '246 reviews' '937 reviews' '200 reviews' '230 reviews' '75 reviews'\n",
      " '987 reviews' '544 reviews' '188 reviews' '990 reviews' '136 reviews'\n",
      " '192 reviews' '284 reviews' '1,021 reviews' '302 reviews' '254 reviews'\n",
      " '233 reviews' '186 reviews' '1,578 reviews' '1,129 reviews' '16 reviews'\n",
      " '463 reviews' '752 reviews' '283 reviews' '110 reviews' '48 reviews'\n",
      " '91 reviews' '225 reviews' '20 reviews' '272 reviews' '83 reviews'\n",
      " '406 reviews' '221 reviews' '96 reviews' '1,294 reviews' '1,548 reviews'\n",
      " '1,086 reviews' '313 reviews' '159 reviews' '60 reviews' '349 reviews'\n",
      " '747 reviews' '129 reviews' '134 reviews' '861 reviews' '1,207 reviews'\n",
      " '190 reviews' '372 reviews' '156 reviews' '574 reviews' '339 reviews'\n",
      " '636 reviews' '1,085 reviews' '323 reviews' '115 reviews' '303 reviews'\n",
      " '149 reviews' '659 reviews' '247 reviews' '7 reviews' '417 reviews'\n",
      " '618 reviews' '392 reviews' '353 reviews' '424 reviews' '605 reviews'\n",
      " '154 reviews' '594 reviews' '102 reviews' '371 reviews' '876 reviews'\n",
      " '396 reviews' '263 reviews' '924 reviews' '966 reviews' '222 reviews'\n",
      " '73 reviews' '948 reviews' '2,282 reviews' '1,124 reviews'\n",
      " '1,439 reviews' '479 reviews' '394 reviews' '298 reviews' '345 reviews'\n",
      " '708 reviews' '606 reviews' '357 reviews' '557 reviews' '342 reviews'\n",
      " '684 reviews' '35 reviews' '1,458 reviews' '278 reviews' '584 reviews'\n",
      " '973 reviews' '109 reviews' '92 reviews' '807 reviews' '503 reviews'\n",
      " '131 reviews' '3,807 reviews' '477 reviews' '648 reviews' '99 reviews'\n",
      " '228 reviews' '34 reviews' '1,237 reviews' '481 reviews' '234 reviews'\n",
      " '843 reviews' '173 reviews' '249 reviews' '62 reviews' '63 reviews'\n",
      " '728 reviews' '510 reviews' '326 reviews' '738 reviews' '691 reviews'\n",
      " '535 reviews' '305 reviews' '722 reviews' '255 reviews' '363 reviews'\n",
      " '277 reviews' '633 reviews' '583 reviews' '1,512 reviews' '786 reviews'\n",
      " '615 reviews' '2,290 reviews' '508 reviews' '537 reviews' '265 reviews'\n",
      " '505 reviews' '2,271 reviews' '329 reviews' '2,617 reviews' '623 reviews'\n",
      " '120 reviews' '780 reviews' '694 reviews' '140 reviews' '127 reviews'\n",
      " '866 reviews' '1,321 reviews' '266 reviews' '904 reviews' '251 reviews'\n",
      " '1,096 reviews' '295 reviews' '483 reviews' '177 reviews' '143 reviews'\n",
      " '1,564 reviews' '66 reviews' '383 reviews' '1,182 reviews' '849 reviews'\n",
      " '248 reviews' '169 reviews' '1,360 reviews' '299 reviews' '252 reviews'\n",
      " '983 reviews' '321 reviews' '433 reviews' '226 reviews' '718 reviews'\n",
      " '418 reviews' '50 reviews' '490 reviews' '312 reviews' '308 reviews'\n",
      " '2,534 reviews' '432 reviews' '306 reviews' '117 reviews' '139 reviews'\n",
      " '145 reviews' '533 reviews' '242 reviews' '358 reviews' '561 reviews'\n",
      " '68 reviews' '647 reviews' '3,095 reviews' '895 reviews' '2,306 reviews'\n",
      " '158 reviews' '499 reviews' '426 reviews' '1,657 reviews' '107 reviews'\n",
      " '152 reviews' '336 reviews' '4,620 reviews' '536 reviews' '748 reviews'\n",
      " '1,201 reviews' '1,100 reviews' '388 reviews' '686 reviews' '495 reviews'\n",
      " '469 reviews' '465 reviews' '1,843 reviews' '3,083 reviews' '294 reviews'\n",
      " '638 reviews' '409 reviews' '603 reviews' '52 reviews' '334 reviews'\n",
      " '126 reviews' '854 reviews' '1,398 reviews' '259 reviews' '496 reviews'\n",
      " '57 reviews' '297 reviews' '453 reviews' '750 reviews' '105 reviews'\n",
      " '338 reviews' '923 reviews' '41 reviews' '291 reviews' '436 reviews'\n",
      " '98 reviews' '597 reviews' '38 reviews' '257 reviews' '2,580 reviews'\n",
      " '482 reviews' '415 reviews' '410 reviews' '2,057 reviews' '155 reviews'\n",
      " '340 reviews' '837 reviews' '504 reviews' '1,140 reviews' '434 reviews'\n",
      " '972 reviews' '397 reviews' '1,330 reviews' '427 reviews' '97 reviews'\n",
      " '101 reviews' '766 reviews' '541 reviews' '1,454 reviews' '1,113 reviews'\n",
      " '478 reviews' '425 reviews' '227 reviews' '293 reviews' '652 reviews'\n",
      " '309 reviews' '1,741 reviews' '320 reviews' '288 reviews' '199 reviews'\n",
      " '701 reviews' '777 reviews' '489 reviews' '325 reviews' '760 reviews'\n",
      " '459 reviews' '576 reviews' '196 reviews' '448 reviews' '430 reviews'\n",
      " '439 reviews' '957 reviews' '18 reviews' '1,089 reviews' '643 reviews'\n",
      " '331 reviews' '794 reviews' '649 reviews' '1,277 reviews' '195 reviews'\n",
      " '212 reviews' '506 reviews' '1,038 reviews' '318 reviews' '621 reviews'\n",
      " '1,215 reviews' '79 reviews' '480 reviews' '1,216 reviews' '31 reviews'\n",
      " '462 reviews' '183 reviews' '619 reviews' '81 reviews' '522 reviews'\n",
      " '5 reviews' '585 reviews' '275 reviews' '333 reviews' '300 reviews'\n",
      " '279 reviews' '365 reviews' '1,884 reviews' '1,191 reviews' '518 reviews'\n",
      " '344 reviews' '1,104 reviews' '891 reviews' '1,156 reviews'\n",
      " '1,605 reviews' '710 reviews' '1,088 reviews' '367 reviews' '817 reviews'\n",
      " '33 reviews' '213 reviews' '502 reviews' '558 reviews' '512 reviews'\n",
      " '1,134 reviews' '943 reviews' '337 reviews' '548 reviews' '454 reviews'\n",
      " '995 reviews' '360 reviews' '468 reviews' '376 reviews' '14 reviews'\n",
      " '501 reviews' '530 reviews' '466 reviews' '811 reviews' '743 reviews'\n",
      " '457 reviews' '908 reviews' '289 reviews' '359 reviews' '1,540 reviews'\n",
      " '630 reviews' '963 reviews' '640 reviews' '1,331 reviews' '17 reviews'\n",
      " '509 reviews' '1,732 reviews' '1,722 reviews' '286 reviews' '461 reviews'\n",
      " '520 reviews' '671 reviews' '168 reviews' '1,111 reviews' '492 reviews'\n",
      " '361 reviews' '661 reviews' '1,103 reviews' '389 reviews' '1,762 reviews'\n",
      " '685 reviews' '1,443 reviews' '840 reviews' '570 reviews'\n",
      " 'Undefined Number' '390 reviews' '497 reviews' '823 reviews'\n",
      " '588 reviews' '343 reviews' '838 reviews' '414 reviews' '93 reviews'\n",
      " '517 reviews' '2,071 reviews' '1,047 reviews' '464 reviews' '884 reviews'\n",
      " '700 reviews' '423 reviews' '335 reviews' '341 reviews' '348 reviews'\n",
      " '567 reviews' '1,242 reviews' '754 reviews' '3,978 reviews'\n",
      " '1,049 reviews' '347 reviews' '1,766 reviews' '3,113 reviews'\n",
      " '2,204 reviews' '724 reviews' '391 reviews' '514 reviews' '713 reviews'\n",
      " '715 reviews' '2,246 reviews' '2,698 reviews' '1,177 reviews'\n",
      " '674 reviews' '579 reviews' '1,541 reviews' '470 reviews' '2,750 reviews'\n",
      " '3,785 reviews' '381 reviews' '1,018 reviews' '2,987 reviews'\n",
      " '487 reviews' '416 reviews' '676 reviews' '970 reviews' '732 reviews'\n",
      " '411 reviews' '1,584 reviews' '792 reviews' '1,214 reviews' '886 reviews'\n",
      " '919 reviews' '663 reviews' '5,448 reviews' '408 reviews' '476 reviews'\n",
      " '1,679 reviews' '519 reviews' '582 reviews' '865 reviews' '366 reviews'\n",
      " '442 reviews' '818 reviews' '1,520 reviews' '1,283 reviews' '445 reviews'\n",
      " '994 reviews' '566 reviews' '776 reviews' '656 reviews' '862 reviews'\n",
      " '328 reviews' '446 reviews' '1,055 reviews' '1,922 reviews' '524 reviews'\n",
      " '385 reviews' '951 reviews' '628 reviews' '1,097 reviews' '352 reviews'\n",
      " '620 reviews' '859 reviews' '422 reviews' '1,223 reviews' '894 reviews'\n",
      " '2,676 reviews' '405 reviews' '965 reviews' '1,274 reviews' '8 reviews'\n",
      " '1,037 reviews' '330 reviews' '997 reviews' '1,858 reviews' '918 reviews'\n",
      " '1,197 reviews' '559 reviews' '757 reviews' '692 reviews' '1,203 reviews'\n",
      " '420 reviews' '2,126 reviews' '3,444 reviews' '1,063 reviews'\n",
      " '741 reviews' '526 reviews' '1,333 reviews' '614 reviews' '531 reviews'\n",
      " '1,599 reviews' '1,094 reviews' '1,342 reviews' '575 reviews'\n",
      " '616 reviews' '721 reviews' '941 reviews' '4,055 reviews' '714 reviews'\n",
      " '494 reviews' '1,003 reviews' '1,669 reviews' '387 reviews' '631 reviews'\n",
      " '382 reviews' '774 reviews' '572 reviews' '1,026 reviews' '812 reviews'\n",
      " '910 reviews' '1,646 reviews' '816 reviews' '599 reviews' '952 reviews'\n",
      " '546 reviews' '1,846 reviews' '431 reviews' '625 reviews' '1,537 reviews'\n",
      " '208 reviews' '764 reviews' '991 reviews' '421 reviews' '858 reviews'\n",
      " '500 reviews' '725 reviews' '447 reviews' '711 reviews' '491 reviews'\n",
      " '826 reviews' '565 reviews' '296 reviews' '1,530 reviews' '679 reviews'\n",
      " '608 reviews']\n"
     ]
    }
   ],
   "source": [
    "# Find unique values for No_of_Reviews column \n",
    "print(f'No_of_Reviews column has:{len(df_new_dataset.No_of_Reviews.unique())} data')\n",
    "print(\"Unique values of \"'No_of_Reviews'\" column:\")\n",
    "print(df_new_dataset.No_of_Reviews.unique())"
   ]
  },
  {
   "cell_type": "code",
   "execution_count": 16,
   "id": "4d81f424",
   "metadata": {},
   "outputs": [],
   "source": [
    "# To increase readability, we remove redundent words from No_of_Reviews column\n",
    "df_new_dataset['No_of_Reviews'] = [n.split()[0].replace(',', '') for n in df_new_dataset['No_of_Reviews']]"
   ]
  },
  {
   "cell_type": "code",
   "execution_count": 17,
   "id": "4eb6339e",
   "metadata": {},
   "outputs": [
    {
     "name": "stdout",
     "output_type": "stream",
     "text": [
      "Undefined\n",
      "Undefined\n",
      "Unrelatable data exists\n"
     ]
    }
   ],
   "source": [
    "# As No_of_Reviews column has 810 data, we can't review all unique values in bare eyes. \n",
    "# Therefore, we check closely No_of_Reviews column to find unrelateable string data\n",
    "is_no_of_reviews = False\n",
    "for review in df_new_dataset.No_of_Reviews:    \n",
    "    if review == 'No review' or review == 'Undefined':\n",
    "        is_no_of_reviews = True\n",
    "        print(review)\n",
    "    else:\n",
    "        pass\n",
    "if is_no_of_reviews:\n",
    "    print(\"Unrelatable data exists\")\n",
    "else:\n",
    "    print(\"No unrelateable data exist in No_of_Reviews column\")    "
   ]
  },
  {
   "cell_type": "code",
   "execution_count": 18,
   "id": "00d50114",
   "metadata": {},
   "outputs": [
    {
     "name": "stdout",
     "output_type": "stream",
     "text": [
      "Price_Range column has: 6 data\n",
      "Unique values of Price_Range column:\n"
     ]
    },
    {
     "data": {
      "text/plain": [
       "array(['$$ - $$$', '$$$$', '$', 'American', 'Not Specified', 'Italian'],\n",
       "      dtype=object)"
      ]
     },
     "execution_count": 18,
     "metadata": {},
     "output_type": "execute_result"
    }
   ],
   "source": [
    "# Find unique values for Price_Range column to see there is any non-meaningful string exist\n",
    "print(f'Price_Range column has: {len(df_new_dataset.Price_Range.unique())} data')\n",
    "print(\"Unique values of \"'Price_Range'\" column:\")\n",
    "df_new_dataset.Price_Range.unique()"
   ]
  },
  {
   "cell_type": "markdown",
   "id": "04543590",
   "metadata": {},
   "source": [
    "- Assign descriptive values for price range to make the data more readable"
   ]
  },
  {
   "cell_type": "code",
   "execution_count": 19,
   "id": "b1b92aeb",
   "metadata": {},
   "outputs": [],
   "source": [
    "# Format Price_Range column's value\n",
    "def price_range(price_value):\n",
    "    if price_value == '$$ - $$$':\n",
    "        return  \"Medium\"\n",
    "    elif price_value == '$$$$':\n",
    "        return  \"Expensive\"\n",
    "    else:\n",
    "        return  \"Cheap\"    \n",
    "\n",
    "df_new_dataset['Price_Range'] = df_new_dataset['Price_Range'].apply(price_range)"
   ]
  },
  {
   "cell_type": "code",
   "execution_count": 20,
   "id": "30fc8d36",
   "metadata": {},
   "outputs": [
    {
     "data": {
      "text/plain": [
       "array(['Medium', 'Expensive', 'Cheap'], dtype=object)"
      ]
     },
     "execution_count": 20,
     "metadata": {},
     "output_type": "execute_result"
    }
   ],
   "source": [
    "df_new_dataset.Price_Range.unique()"
   ]
  },
  {
   "cell_type": "code",
   "execution_count": 21,
   "id": "ada19229",
   "metadata": {},
   "outputs": [
    {
     "name": "stdout",
     "output_type": "stream",
     "text": [
      "Type column has: 670 data\n",
      "Unique values of Type column:\n"
     ]
    },
    {
     "data": {
      "text/plain": [
       "array([' Seafood, Vegetarian Friendly, Vegan Options',\n",
       "       ' Diner, American, Vegetarian Friendly',\n",
       "       ' American, Diner, Vegetarian Friendly',\n",
       "       ' American, Wine Bar, Vegetarian Friendly',\n",
       "       ' American, Bar, Seafood', ' Seafood, Italian, Pizza',\n",
       "       ' American, Steakhouse, Bar', ' Mediterranean, Greek, Healthy',\n",
       "       ' Italian, Pizza, Vegetarian Friendly',\n",
       "       ' American, Steakhouse, Gluten Free Options',\n",
       "       ' Italian, Vegetarian Friendly, Gluten Free Options',\n",
       "       ' Cafe, American, Vegetarian Friendly', ' Irish, Bar, Pub',\n",
       "       ' American, Bar, Vegetarian Friendly', ' American, Cafe, Healthy',\n",
       "       ' American, Bar, Pub', ' Steakhouse, Latin, Argentinean',\n",
       "       ' Chinese, Asian, Taiwanese', ' Belgian, French, Cafe',\n",
       "       ' American, Cajun & Creole, Vegetarian Friendly',\n",
       "       ' Steakhouse, Mexican, Vegetarian Friendly',\n",
       "       ' American, Vegetarian Friendly, Vegan Options',\n",
       "       ' Bar, Contemporary, Fusion',\n",
       "       ' American, Bar, Gluten Free Options',\n",
       "       ' American, European, Vegetarian Friendly',\n",
       "       ' American, Bar, Contemporary',\n",
       "       ' Latin, Spanish, Vegetarian Friendly',\n",
       "       ' American, Bar, Gastropub', ' Spanish, Mediterranean, Wine Bar',\n",
       "       ' Chinese, Asian, Vegetarian Friendly',\n",
       "       ' American, Vegetarian Friendly',\n",
       "       ' Mexican, Southwestern, Vegetarian Friendly',\n",
       "       ' Mediterranean, Greek, Italian',\n",
       "       ' Cajun & Creole, American, Vegetarian Friendly',\n",
       "       ' Italian, Vegetarian Friendly, Vegan Options',\n",
       "       ' American, Seafood', ' Pizza, Vegetarian Friendly, Vegan Options',\n",
       "       ' Italian, Pizza, Deli', ' Caribbean, Latin, Spanish', ' Mexican',\n",
       "       ' French, European, Vegetarian Friendly', nan,\n",
       "       ' American, Cafe, Diner',\n",
       "       ' American, Southwestern, Vegetarian Friendly',\n",
       "       ' Indian, Asian, Vegetarian Friendly', ' Cafe',\n",
       "       ' American, Cafe, International', ' American, Bar, International',\n",
       "       ' American, Seafood, Vegetarian Friendly',\n",
       "       ' Asian, Thai, Vegetarian Friendly', ' Greek, Italian, Pizza',\n",
       "       ' American, Seafood, Bar',\n",
       "       ' American, Seafood, Gluten Free Options', ' American, Diner',\n",
       "       ' American, Steakhouse, Vegetarian Friendly',\n",
       "       ' Japanese, Sushi, Asian', ' American, Cafe, Vegetarian Friendly',\n",
       "       ' Thai, Asian, Vegan Options', ' Italian, American, Pizza',\n",
       "       ' American, Southwestern, Bar', ' Italian, American, Seafood',\n",
       "       ' Pizza, Vegetarian Friendly', ' Asian, Indian, Tibetan',\n",
       "       ' American, Steakhouse, Southwestern',\n",
       "       ' Indian, Vegetarian Friendly, Vegan Options',\n",
       "       ' American, Contemporary, Vegetarian Friendly',\n",
       "       ' Latin, Cuban, Caribbean', ' Italian, Vegetarian Friendly',\n",
       "       ' American, Vegetarian Friendly, Gluten Free Options',\n",
       "       ' Indonesian, American, Vegetarian Friendly', ' American, Bar',\n",
       "       ' Pizza, Italian', ' Italian, Pizza, Fast Food',\n",
       "       ' Latin, Barbecue, Brazilian',\n",
       "       ' American, Deli, Vegetarian Friendly',\n",
       "       ' Mexican, Latin, Vegetarian Friendly',\n",
       "       ' American, Sushi, Gluten Free Options', ' Chinese, Vegan Options',\n",
       "       ' American, Barbecue, Gluten Free Options',\n",
       "       ' Deli, Vegetarian Friendly', ' American, Steakhouse',\n",
       "       ' Italian, Pizza, Vegan Options', ' Mexican, Latin, Spanish',\n",
       "       ' Italian, Vegan Options, Vegetarian Friendly', ' Mexican, Latin',\n",
       "       ' Asian, Vietnamese, Vegetarian Friendly', ' Mexican, Latin, Bar',\n",
       "       ' French, International, European',\n",
       "       ' Mediterranean, Middle Eastern, Vegan Options',\n",
       "       ' American, Bar, Cafe', ' Seafood, European, Spanish',\n",
       "       ' Mexican, Vegetarian Friendly', ' Italian, Pizza, Wine Bar',\n",
       "       ' Italian, Mediterranean, Sicilian',\n",
       "       ' American, International, Vegetarian Friendly',\n",
       "       ' American, Greek, Diner',\n",
       "       ' German, European, Vegetarian Friendly',\n",
       "       ' Mediterranean, Greek, Vegetarian Friendly',\n",
       "       ' French, Gluten Free Options, Vegetarian Friendly', ' Seafood',\n",
       "       ' French, Vegetarian Friendly, Vegan Options',\n",
       "       ' American, Seafood, Soups', ' Pub, Brew Pub',\n",
       "       ' Japanese, Barbecue, Sushi', ' Chinese, Asian, Seafood',\n",
       "       ' Steakhouse, American, Seafood',\n",
       "       ' Mexican, Latin, Central American', ' American, Bar, Pizza',\n",
       "       ' American, Diner, Deli',\n",
       "       ' Vegetarian Friendly, Vegan Options, Gluten Free Options',\n",
       "       ' Asian, Thai, Sushi', ' Gastropub, American, Bar',\n",
       "       ' Italian, American, Bar', ' American, Asian, Fast Food',\n",
       "       ' American, Seafood, Cajun & Creole',\n",
       "       ' Seafood, Gluten Free Options',\n",
       "       ' Italian, Pizza, Gluten Free Options',\n",
       "       ' Indian, Pakistani, Vegetarian Friendly',\n",
       "       ' Chinese, Sushi, Asian', ' American, Bar, Diner',\n",
       "       ' Mediterranean, Vegetarian Friendly, Vegan Options',\n",
       "       ' Bar, American, Pub', ' Barbecue',\n",
       "       ' Barbecue, American, Southwestern',\n",
       "       ' American, Italian, Vegetarian Friendly',\n",
       "       ' American, Fast Food, Diner', ' Italian, European, Sicilian',\n",
       "       ' Italian, Spanish, Vegetarian Friendly',\n",
       "       ' European, Vegetarian Friendly, Gluten Free Options',\n",
       "       ' Mexican, Southwestern, Latin',\n",
       "       ' American, Diner, Gluten Free Options',\n",
       "       ' Mexican, American, Southwestern', ' Italian, Pizza, Neapolitan',\n",
       "       ' American, Gluten Free Options, Vegetarian Friendly',\n",
       "       ' Irish, Pub', ' Mexican, Southwestern, Bar',\n",
       "       ' Vegetarian Friendly, Gluten Free Options',\n",
       "       ' American, Gastropub, Pub',\n",
       "       ' American, Cafe, Gluten Free Options',\n",
       "       ' American, Vegan Options, Vegetarian Friendly',\n",
       "       ' Seafood, Italian, Vegetarian Friendly',\n",
       "       ' American, Mediterranean, Vegetarian Friendly',\n",
       "       ' Bar, American, Vegetarian Friendly',\n",
       "       ' Japanese, American, Asian', ' American, Gluten Free Options',\n",
       "       ' Pizza', ' Japanese, Asian, Vegetarian Friendly',\n",
       "       ' American, Cafe, Deli', ' Seafood, Mexican, Latin',\n",
       "       ' Mexican, Central American, Vegetarian Friendly',\n",
       "       ' Steakhouse, American, Gluten Free Options',\n",
       "       ' Asian, Mongolian, Chinese', ' Steakhouse, Seafood, American',\n",
       "       ' Pub, American, Brew Pub',\n",
       "       ' Mexican, Vegan Options, Vegetarian Friendly',\n",
       "       ' Greek, American, Vegetarian Friendly', ' Bar, Pub',\n",
       "       ' Seafood, Vegetarian Friendly, Gluten Free Options',\n",
       "       ' American, Barbecue', ' Bar, Italian, American',\n",
       "       ' American, Cafe, Soups', ' Italian, Pizza, Mediterranean',\n",
       "       ' Steakhouse, Brazilian, Gluten Free Options',\n",
       "       ' American, Steakhouse, Seafood', ' American, Belgian, European',\n",
       "       ' British, Soups', ' Mexican, Southwestern',\n",
       "       ' Mexican, Vegetarian Friendly, Vegan Options',\n",
       "       ' Lebanese, Middle Eastern, Halal', ' Bar, Seafood, Soups',\n",
       "       ' American', ' American, Seafood, Steakhouse',\n",
       "       ' American, Asian, Vegetarian Friendly',\n",
       "       ' Caribbean, Bar, Bahamian',\n",
       "       ' Mediterranean, Middle Eastern, Fast Food',\n",
       "       ' American, Deli, Vegan Options', ' American, Irish, Bar',\n",
       "       ' Latin, Argentinean, South American',\n",
       "       ' Healthy, Bar, Mediterranean',\n",
       "       ' Italian, Mediterranean, Vegetarian Friendly',\n",
       "       ' Mediterranean, Greek, Middle Eastern',\n",
       "       ' Latin, Spanish, South American',\n",
       "       ' Latin, South American, Vegetarian Friendly',\n",
       "       ' African, Ethiopian, Vegetarian Friendly',\n",
       "       ' Steakhouse, American, Vegetarian Friendly',\n",
       "       ' Asian, Vegetarian Friendly', ' Italian', ' Pizza, Italian, Bar',\n",
       "       ' American, Bar, Wine Bar', ' Cafe, Cajun & Creole',\n",
       "       ' Mexican, American, Vegetarian Friendly',\n",
       "       ' Mediterranean, Middle Eastern, Turkish',\n",
       "       ' Italian, Seafood, Vegetarian Friendly',\n",
       "       ' Italian, Mediterranean, Greek',\n",
       "       ' Italian, Seafood, Gluten Free Options',\n",
       "       ' Brazilian, Fast Food, South American',\n",
       "       ' Asian, Korean, Gluten Free Options',\n",
       "       ' Chinese, Asian, Vietnamese', ' Italian, Gluten Free Options',\n",
       "       ' Pizza, American, Vegetarian Friendly',\n",
       "       ' American, Barbecue, Bar',\n",
       "       ' Vietnamese, Fusion, Vegetarian Friendly',\n",
       "       ' Italian, Seafood, Mediterranean', ' Chinese, Asian',\n",
       "       ' Polish, European, Eastern European',\n",
       "       ' American, French, International', ' Japanese, Asian, Soups',\n",
       "       ' Mediterranean, Turkish, Vegetarian Friendly', ' Italian, Pizza',\n",
       "       ' French, Steakhouse, Vegetarian Friendly',\n",
       "       ' Asian, Burmese, Vegetarian Friendly',\n",
       "       ' American, Seafood, Vegan Options',\n",
       "       ' Italian, European, Vegetarian Friendly',\n",
       "       ' Irish, Italian, American', ' Steakhouse, Seafood',\n",
       "       ' Bar, Spanish, Vegetarian Friendly', ' Japanese, Soups, Asian',\n",
       "       ' Steakhouse, Brazilian, Vegetarian Friendly',\n",
       "       ' Fast Food, Swedish, Scandinavian', ' Mexican, American, Bar',\n",
       "       ' Wine Bar, Italian, Vegetarian Friendly',\n",
       "       ' Asian, Chinese, Fast Food', ' European, Portuguese',\n",
       "       ' Cafe, Mediterranean, Greek',\n",
       "       ' Cafe, Vegetarian Friendly, Vegan Options',\n",
       "       ' American, International, Deli',\n",
       "       ' Vegetarian Friendly, Vegan Options',\n",
       "       ' Italian, Northern-Italian, Vegetarian Friendly',\n",
       "       ' Asian, Korean, Vegetarian Friendly', ' American, Fast Food',\n",
       "       ' American, Steakhouse, Australian', ' Mexican, Latin, Colombian',\n",
       "       ' American, Bar, Barbecue', ' Wine Bar, Bar, Pub',\n",
       "       ' Latin, Cuban, Central American',\n",
       "       ' Italian, American, Vegetarian Friendly',\n",
       "       ' Mediterranean, Middle Eastern, Persian',\n",
       "       ' Japanese, Seafood, Sushi', ' American, Kosher',\n",
       "       ' Asian, International, Vegan Options',\n",
       "       ' Spanish, French, European',\n",
       "       ' Indian, Vegan Options, Vegetarian Friendly',\n",
       "       ' Barbecue, American', ' American, Wine Bar, International',\n",
       "       ' American, Bar, Grill', ' German, Bar, European',\n",
       "       ' American, Fast Food, Deli', ' Barbecue, Asian, Korean',\n",
       "       ' French, Cafe, Vegetarian Friendly',\n",
       "       ' Italian, Neapolitan, Campania', ' American, Seafood, Grill',\n",
       "       ' Seafood, Mediterranean, Spanish',\n",
       "       ' Spanish, Wine Bar, Vegetarian Friendly',\n",
       "       ' Steakhouse, American, Grill', ' Fast Food, American',\n",
       "       ' Pizza, Fast Food, Italian', ' Southwestern, American, Bar',\n",
       "       ' Mediterranean, Greek, Seafood', ' Bar, Asian, Korean',\n",
       "       ' Pizza, Italian, Vegetarian Friendly',\n",
       "       ' Italian, Tuscan, Central-Italian',\n",
       "       ' Steakhouse, American, Brew Pub',\n",
       "       ' American, Seafood, International',\n",
       "       ' American, Vegan Options, Gluten Free Options',\n",
       "       ' Seafood, American, Gluten Free Options',\n",
       "       ' Mexican, Bar, Vegetarian Friendly',\n",
       "       ' Hawaiian, American, Vegetarian Friendly',\n",
       "       ' Seafood, Italian, Wine Bar',\n",
       "       ' Central American, American, Steakhouse',\n",
       "       ' Italian, Mediterranean, Neapolitan',\n",
       "       ' American, European, International', ' Bar, Pub, American',\n",
       "       ' Greek, Mediterranean, Vegetarian Friendly',\n",
       "       ' Contemporary, Healthy, Vegan Options',\n",
       "       ' Mexican, Southwestern, Seafood', ' American, Pizza, Italian',\n",
       "       ' Mexican, Southwestern, Soups', ' Chinese, Asian, Soups',\n",
       "       ' American, Deli, Kosher', ' Wine Bar, American, International',\n",
       "       ' Italian, Wine Bar, Vegetarian Friendly',\n",
       "       ' Steakhouse, Bar, Vegetarian Friendly',\n",
       "       ' Bar, American, Contemporary',\n",
       "       ' American, Southwestern, Gluten Free Options',\n",
       "       ' Seafood, Soups, Gluten Free Options', ' American, Brew Pub, Bar',\n",
       "       ' American, Seafood, Sushi', ' American, Southwestern, Barbecue',\n",
       "       ' Hawaiian, Seafood, Vegetarian Friendly',\n",
       "       ' Indian, Mediterranean, Healthy',\n",
       "       ' Latin, Mexican, Vegetarian Friendly',\n",
       "       ' Vegetarian Friendly, Gluten Free Options, Vegan Options',\n",
       "       ' Polish, Russian, Eastern European',\n",
       "       ' Mediterranean, Spanish, Catalan',\n",
       "       ' French, American, Vegetarian Friendly',\n",
       "       ' Cafe, French, American', ' Italian, Pizza, Tuscan',\n",
       "       ' Mediterranean, Middle Eastern, Vegetarian Friendly',\n",
       "       ' Seafood, American, Soups', ' Sushi, Asian, Chinese',\n",
       "       ' Irish, American, Vegetarian Friendly',\n",
       "       ' Mediterranean, Turkish, Greek', ' Seafood, Spanish, Portuguese',\n",
       "       ' American, Spanish, Wine Bar',\n",
       "       ' Italian, Vegan Options, Gluten Free Options',\n",
       "       ' Australian, Vegetarian Friendly, Vegan Options',\n",
       "       ' Seafood, Fast Food, Soups', ' Grill, American, Vegan Options',\n",
       "       ' Italian, International, Contemporary',\n",
       "       ' American, International, Gluten Free Options',\n",
       "       ' Seafood, Mediterranean, Greek', ' Pizza, Neapolitan, Campania',\n",
       "       ' American, Bar, European',\n",
       "       ' Gastropub, Vegetarian Friendly, Gluten Free Options',\n",
       "       ' American, Barbecue, Grill',\n",
       "       ' International, Vegetarian Friendly, Gluten Free Options',\n",
       "       ' Deli, Vegetarian Friendly, Vegan Options',\n",
       "       ' American, Bar, Fusion', ' Seafood, American, Steakhouse',\n",
       "       ' Steakhouse, Gluten Free Options',\n",
       "       ' European, French, Vegetarian Friendly',\n",
       "       ' Seafood, Spanish, Mediterranean',\n",
       "       ' Latin, Central American, Spanish',\n",
       "       ' American, Steakhouse, Latin',\n",
       "       ' Mexican, Contemporary, Vegetarian Friendly', ' American, Cafe',\n",
       "       ' Italian, American, Gluten Free Options',\n",
       "       ' Mexican, Latin, Fast Food',\n",
       "       ' Mediterranean, Middle Eastern, Egyptian',\n",
       "       ' Italian, Seafood, American', ' Wine Bar, American, Bar',\n",
       "       ' International, Indian, Asian',\n",
       "       ' Mexican, Fast Food, Vegetarian Friendly',\n",
       "       ' Italian, American, Wine Bar', ' Sushi, Asian, Japanese',\n",
       "       ' American, Sushi, Vegetarian Friendly',\n",
       "       ' Italian, Mediterranean, European',\n",
       "       ' Lebanese, Mediterranean, Greek',\n",
       "       ' German, European, Central European',\n",
       "       ' Moroccan, Vegetarian Friendly, Vegan Options',\n",
       "       ' Mexican, Fast Food', ' Cafe, American, International',\n",
       "       ' Wine Bar, American, Pub', ' Bar, Mexican, American',\n",
       "       ' Quick Bites, Mexican, Latin',\n",
       "       ' Seafood, American, Vegetarian Friendly',\n",
       "       ' Italian, Gluten Free Options, Vegetarian Friendly',\n",
       "       ' Southwestern, Latin, Spanish',\n",
       "       ' Diner, Cafe, Vegetarian Friendly',\n",
       "       ' Wine Bar, American, Contemporary', ' Chinese, Seafood, Asian',\n",
       "       ' Bar, American', ' Asian, Sri Lankan, Vegetarian Friendly',\n",
       "       ' American, Cafe, Contemporary',\n",
       "       ' Mexican, Cafe, Vegetarian Friendly',\n",
       "       ' Spanish, Seafood, European', ' Pizza, American',\n",
       "       ' International, Mediterranean, Middle Eastern',\n",
       "       ' Spanish, Wine Bar, Mediterranean', ' Seafood, Sushi, American',\n",
       "       ' American, Seafood, Polynesian', ' American, Deli',\n",
       "       ' Bar, American, Irish', ' American, Fusion, Vegetarian Friendly',\n",
       "       ' Steakhouse, American', ' Italian, Bar, Pizza',\n",
       "       ' Chinese, Asian, Vegan Options', ' Steakhouse',\n",
       "       ' American, Soups, Vegetarian Friendly',\n",
       "       ' Italian, Deli, Vegetarian Friendly',\n",
       "       ' Brew Pub, Barbecue, British',\n",
       "       ' Mediterranean, Middle Eastern, Lebanese',\n",
       "       ' Mexican, Southwestern, American', ' American, Bar, Asian',\n",
       "       ' American, Healthy, Vegetarian Friendly',\n",
       "       ' French, European, International', ' Pizza, American, Cafe',\n",
       "       ' American, Contemporary, Fusion', ' Bar, Pub, Brew Pub',\n",
       "       ' Diner, Vegetarian Friendly, Vegan Options',\n",
       "       ' Steakhouse, Italian, International',\n",
       "       ' Bar, Barbecue, Gluten Free Options',\n",
       "       ' Mediterranean, Armenian, Vegetarian Friendly',\n",
       "       ' Italian, Bar, Vegetarian Friendly', ' Soups, American',\n",
       "       ' Asian, Thai, Vegan Options',\n",
       "       ' Healthy, Mexican, Vegetarian Friendly',\n",
       "       ' Thai, Asian, Vegetarian Friendly',\n",
       "       ' Bar, Pizza, Vegetarian Friendly', ' Italian, Pizza, Pub',\n",
       "       ' Mexican, Southwestern, Spanish', ' Mexican, American, Cafe',\n",
       "       ' Mexican, Spanish, Latin', ' Mediterranean, European, Turkish',\n",
       "       ' Latin, Spanish, Cuban', ' Healthy, Italian, Vegetarian Friendly',\n",
       "       ' International, Contemporary, Vegetarian Friendly',\n",
       "       ' International, Fusion, Contemporary', ' American, Bar, Brew Pub',\n",
       "       ' Belgian, European, French', ' Latin, Sushi, Spanish',\n",
       "       ' American, Steakhouse, Vegan Options',\n",
       "       ' American, Steakhouse, Italian', ' Vegan Options',\n",
       "       ' Mexican, Mediterranean, Soups',\n",
       "       ' International, Contemporary, Fusion', ' Seafood, American, Bar',\n",
       "       ' Seafood, Portuguese', ' Asian, Hawaiian, Seafood',\n",
       "       ' Bakeries, Cafe', ' American, Seafood, Diner',\n",
       "       ' American, Mediterranean, Vegan Options',\n",
       "       ' Mediterranean, Turkish, Middle Eastern',\n",
       "       ' Italian, Pizza, International', ' Italian, Deli',\n",
       "       ' Sushi, Japanese, Asian', ' Sushi, Asian, Healthy', ' Pub',\n",
       "       ' American, Mediterranean, European',\n",
       "       ' Spanish, South American, Peruvian',\n",
       "       ' Italian, Fusion, Vegetarian Friendly', ' Japanese, Asian',\n",
       "       ' American, Southwestern, Asian', ' Asian, Fusion, Vegan Options',\n",
       "       ' American, Italian, Tuscan', ' Italian, Mediterranean',\n",
       "       ' Polynesian, Hawaiian', ' European, Spanish, Mediterranean',\n",
       "       ' Lebanese, Mediterranean, Middle Eastern',\n",
       "       ' Italian, Contemporary, Vegetarian Friendly',\n",
       "       ' Latin, Steakhouse, Barbecue',\n",
       "       ' Southwestern, Vegetarian Friendly', ' Italian, Grill, Pub',\n",
       "       ' Mexican, Bar, Beer restaurants', ' Mexican, Latin, Southwestern',\n",
       "       ' Asian, Vegetarian Friendly, Vegan Options',\n",
       "       ' American, Spanish, Vegetarian Friendly',\n",
       "       ' American, Diner, Soups', ' American, Italian, Bar',\n",
       "       ' Cajun & Creole, Seafood, American',\n",
       "       ' Contemporary, Italian, Vegetarian Friendly',\n",
       "       ' Turkish, Middle Eastern, Vegetarian Friendly',\n",
       "       ' Mediterranean, Middle Eastern, Israeli',\n",
       "       ' Italian, European, Healthy', ' Seafood, American',\n",
       "       ' Steakhouse, American, International',\n",
       "       ' Peruvian, Latin, Spanish', ' Wine Bar, Italian', ' Bar, Pizza',\n",
       "       ' Seafood, Sushi, Polynesian', ' Seafood, Italian, Grill',\n",
       "       ' French, Steakhouse, Gluten Free Options', ' American, Soups',\n",
       "       ' Mexican, Bar, American',\n",
       "       ' Contemporary, Vegetarian Friendly, Gluten Free Options',\n",
       "       ' French, European, German', ' American, Steakhouse, Barbecue',\n",
       "       ' Pizza, Grill, Pub', ' Asian, Mongolian, Vegetarian Friendly',\n",
       "       ' Peruvian, Latin, South American',\n",
       "       ' Polynesian, Hawaiian, Barbecue',\n",
       "       ' American, Greek, Vegetarian Friendly', ' Bakeries, Cafe, French',\n",
       "       ' American, International, Contemporary',\n",
       "       ' Steakhouse, Brazilian, South American',\n",
       "       ' French, Cajun & Creole, American',\n",
       "       ' International, Mediterranean, Fusion',\n",
       "       ' Steakhouse, Seafood, Mexican',\n",
       "       ' Mediterranean, American, International',\n",
       "       ' Polynesian, Hawaiian, American',\n",
       "       ' Scandinavian, American, Swedish',\n",
       "       ' American, Contemporary, Gluten Free Options',\n",
       "       ' American, Cafe, Asian', ' American, Cafe, Grill',\n",
       "       ' Indian, Asian, Chinese', ' Asian, Vietnamese, Soups',\n",
       "       ' Brazilian, Latin, Barbecue', ' Steakhouse, Brazilian',\n",
       "       ' American, Cajun & Creole, Vegan Options',\n",
       "       ' Pizza, Italian, American',\n",
       "       ' Middle Eastern, Persian, Vegetarian Friendly',\n",
       "       ' American, Bar, Spanish', ' American, Mexican, Steakhouse',\n",
       "       ' Pizza, American, Italian', ' Bar, Pizza, Pub',\n",
       "       ' American, Fusion, Wine Bar', ' Dessert, Italian',\n",
       "       ' Mexican, Central American, Southwestern',\n",
       "       ' Italian, Asian, Vegan Options', ' Asian, Korean',\n",
       "       ' Indian, Vegetarian Friendly', ' Chinese, Seafood, Sushi',\n",
       "       ' Bar, Bahamian, Jamaican',\n",
       "       ' Ethiopian, African, Vegetarian Friendly',\n",
       "       ' American, Deli, Soups', ' American, International, Pub',\n",
       "       ' Steakhouse, American, Contemporary',\n",
       "       ' Chinese, Asian, Gluten Free Options', ' German, Bar, American',\n",
       "       ' Italian, International, Vegetarian Friendly',\n",
       "       ' Chinese, Fast Food, Asian',\n",
       "       ' Contemporary, American, Vegetarian Friendly',\n",
       "       ' Bar, Pub, Vegetarian Friendly',\n",
       "       ' Lebanese, Middle Eastern, International',\n",
       "       ' Dine With a Local Chef, Italian, American',\n",
       "       ' American, Seafood, Mediterranean',\n",
       "       ' Japanese, Sushi, Vegetarian Friendly',\n",
       "       ' American, Diner, Vegan Options',\n",
       "       ' Italian, Seafood, Northern-Italian', ' German, European, Bar',\n",
       "       ' Mediterranean, Greek', ' Seafood, European, Portuguese',\n",
       "       ' Italian, American, Contemporary',\n",
       "       ' Steakhouse, Spanish, Portuguese',\n",
       "       ' Caribbean, Indian, International', ' Chinese, Cuban, Latin',\n",
       "       ' Fusion, Bar, Seafood', ' Italian, Pizza, American',\n",
       "       ' Portuguese, South American, Brazilian',\n",
       "       ' Fast Food, International, Vegetarian Friendly',\n",
       "       ' Italian, Greek, Deli', ' Asian, Thai, Vietnamese',\n",
       "       ' Steakhouse, Brazilian, Grill',\n",
       "       ' Lebanese, Middle Eastern, Mediterranean',\n",
       "       ' Seafood, American, Cajun & Creole',\n",
       "       ' Mediterranean, American, Asian',\n",
       "       ' Fusion, Vegetarian Friendly, Vegan Options',\n",
       "       ' American, Wine Bar, Contemporary',\n",
       "       ' Mediterranean, Wine Bar, Spanish',\n",
       "       ' Italian, French, Steakhouse',\n",
       "       ' Asian, Chinese, Vegetarian Friendly',\n",
       "       ' Chinese, Japanese, Seafood',\n",
       "       ' Southwestern, Mediterranean, American',\n",
       "       ' Steakhouse, Brazilian, Latin', ' Steakhouse, American, Bar',\n",
       "       ' Bar, Seafood, American', ' Cafe, French, Vegetarian Friendly',\n",
       "       ' Mediterranean, Middle Eastern, Greek',\n",
       "       ' American, Gastropub, Vegetarian Friendly',\n",
       "       ' Asian, Korean, Barbecue', ' Caribbean, Latin, Cuban',\n",
       "       ' Fast Food, Soups, American',\n",
       "       ' Southwestern, Latin, Vegetarian Friendly',\n",
       "       ' Japanese, Barbecue, Asian', ' Singaporean, Chinese, Asian',\n",
       "       ' Pizza, Fast Food, Vegetarian Friendly',\n",
       "       ' Brazilian, Latin, Vegetarian Friendly',\n",
       "       ' American, Mediterranean, Caribbean',\n",
       "       ' Caribbean, Spanish, Cuban', ' Grill, Healthy, American',\n",
       "       ' Brazilian, Vegetarian Friendly, Gluten Free Options',\n",
       "       ' Asian, Hawaiian, Vegetarian Friendly', ' American, Greek, Deli',\n",
       "       ' French, European, Wine Bar',\n",
       "       ' Middle Eastern, Lebanese, Mediterranean',\n",
       "       ' Bakeries, American, Cafe', ' American, Bar, Deli', ' Spanish',\n",
       "       ' Mediterranean, Wine Bar, Vegetarian Friendly',\n",
       "       ' Italian, Bar, American', ' Pizza, Brew Pub, Bar',\n",
       "       ' Mexican, Latin, Seafood', ' Mediterranean, International, Grill',\n",
       "       ' American, Bar, Polynesian', ' Asian, Japanese, Steakhouse',\n",
       "       ' American, Grill, Bar', ' Colombian, Spanish, South American',\n",
       "       ' Mexican, Vegan Options', ' German, European, Eastern European',\n",
       "       ' American, Southwestern',\n",
       "       ' Cajun & Creole, Vegetarian Friendly, Gluten Free Options',\n",
       "       ' European, Eastern European, Hungarian',\n",
       "       ' American, Barbecue, Vegetarian Friendly', ' British, Cafe',\n",
       "       ' American, Brew Pub, Gastropub', ' Portuguese, Seafood, European',\n",
       "       ' Bar, European, Spanish', ' Sushi, Asian, Thai',\n",
       "       ' Middle Eastern, Pakistani, Steakhouse',\n",
       "       ' American, Steakhouse, Contemporary',\n",
       "       ' American, Soups, Vegan Options', ' Steakhouse, American, Kosher',\n",
       "       ' Mexican, American, Steakhouse',\n",
       "       ' American, Pizza, Vegetarian Friendly',\n",
       "       ' French, Contemporary, Vegetarian Friendly',\n",
       "       ' Bar, Vegetarian Friendly, Vegan Options',\n",
       "       ' Wine Bar, Contemporary, Vegetarian Friendly',\n",
       "       ' Grill, Italian, Vegetarian Friendly',\n",
       "       ' International, Mediterranean, Spanish',\n",
       "       ' Spanish, Vegetarian Friendly, Vegan Options',\n",
       "       ' American, Contemporary, Vegan Options', ' Bar, British, Pub',\n",
       "       ' Soups, American, Asian', ' American, Pub', ' Seafood, Mexican',\n",
       "       ' Latin, Bar, Contemporary',\n",
       "       ' Street Food, International, Vegan Options',\n",
       "       ' Moroccan, Mediterranean, Middle Eastern',\n",
       "       ' Caribbean, Latin, Puerto Rican', ' American, Diner, Cafe',\n",
       "       ' International, American, Vegetarian Friendly',\n",
       "       ' American, Bar, Vegan Options', ' American, Cafe, Greek',\n",
       "       ' Seafood, Soups', ' American, Gluten Free Options, Vegan Options',\n",
       "       ' American, Diner, Gastropub',\n",
       "       ' French, Vegetarian Friendly, Gluten Free Options',\n",
       "       ' Dessert, Vegan Options',\n",
       "       ' Indian, Vegan Options, Gluten Free Options',\n",
       "       ' Latin, Argentinean, Steakhouse', ' Pizza, Italian, Sicilian',\n",
       "       ' Barbecue, Brazilian, Vegetarian Friendly',\n",
       "       ' American, Soups, Cafe', ' American, Canadian, Contemporary',\n",
       "       ' Bakeries', ' Italian, French, Mediterranean',\n",
       "       ' Asian, Thai, Fusion', ' Seafood, Vegetarian Friendly', ' German',\n",
       "       ' Cajun & Creole, Seafood, Vegetarian Friendly',\n",
       "       ' Middle Eastern, Mediterranean, Vegetarian Friendly',\n",
       "       ' Middle Eastern, Vegetarian Friendly, Vegan Options',\n",
       "       ' Indian, Nepali, Vegetarian Friendly',\n",
       "       ' American, Mediterranean, Gluten Free Options', ' Fast Food',\n",
       "       ' Pizza, Mediterranean, Vegetarian Friendly',\n",
       "       ' Peruvian, Latin, Seafood', ' Quick Bites, American, Cafe',\n",
       "       ' Brazilian, Steakhouse, Gluten Free Options',\n",
       "       ' Argentinean, Mexican, South American',\n",
       "       ' American, Pub, Vegetarian Friendly',\n",
       "       ' Mediterranean, Spanish, Vegetarian Friendly',\n",
       "       ' Brazilian, Steakhouse, Latin',\n",
       "       ' Spanish, Mediterranean, Vegan Options',\n",
       "       ' Japanese, Asian, Korean', ' American, International, Healthy',\n",
       "       ' Latin, Colombian, Spanish',\n",
       "       ' Contemporary, Vegetarian Friendly, Vegan Options', ' Polish',\n",
       "       ' Cafe, Diner', ' American, Wine Bar, Asian',\n",
       "       ' Brew Pub, American, Vegetarian Friendly',\n",
       "       ' Bar, American, Grill', ' Chinese, Asian, Japanese',\n",
       "       ' Chinese, Asian, Contemporary', ' Cafe, American, Bar',\n",
       "       ' American, Soups, Contemporary', ' Indian, Pakistani, Afghani',\n",
       "       ' Latin, Mexican, Spanish', ' Steakhouse, Brazilian, Barbecue',\n",
       "       ' Cafe, Asian, Vegetarian Friendly',\n",
       "       ' Polish, European, Vegetarian Friendly',\n",
       "       ' Southwestern, Bar, American', ' Cafe, American',\n",
       "       ' Bar, Pizza, American', ' American, Cajun & Creole, Seafood',\n",
       "       ' French, American, Cafe',\n",
       "       ' Mexican, Spanish, Vegetarian Friendly', ' French, Bar, European',\n",
       "       ' Mediterranean, European, Central European', ' Bar',\n",
       "       ' Italian, Healthy, Vegetarian Friendly',\n",
       "       ' Steakhouse, Argentinean, Latin',\n",
       "       ' Seafood, American, International',\n",
       "       ' Caribbean, Jamaican, Vegetarian Friendly',\n",
       "       ' American, Wine Bar, Bar', ' Seafood, Mediterranean, European',\n",
       "       ' Vegetarian Friendly', ' American, Mediterranean, Italian',\n",
       "       ' Steakhouse, Italian, Bar'], dtype=object)"
      ]
     },
     "execution_count": 21,
     "metadata": {},
     "output_type": "execute_result"
    }
   ],
   "source": [
    "# Find unique values for Type column to see there is any non-meaningful string exist\n",
    "print(f'Type column has: {len(df_new_dataset.Type.unique())} data')\n",
    "print(\"Unique values of \"'Type'\" column:\")\n",
    "df_new_dataset.Type.unique()"
   ]
  },
  {
   "cell_type": "code",
   "execution_count": 22,
   "id": "33852e52",
   "metadata": {},
   "outputs": [
    {
     "name": "stdout",
     "output_type": "stream",
     "text": [
      "No unrelateable data exist in Type column\n"
     ]
    }
   ],
   "source": [
    "# As Type column has 670 data, we can't review all unique values in bare eyes. \n",
    "# Therefore, we check closely Comments column to find unrelateable string data\n",
    "is_type = False\n",
    "for types in df_new_dataset.Type:    \n",
    "    if types == 'No type' or types == 'Undefined':\n",
    "        is_type = True\n",
    "        print(types)\n",
    "    else:\n",
    "        pass\n",
    "if is_type:\n",
    "    print(\"Unrelatable data exists\")\n",
    "else:\n",
    "    print(\"No unrelateable data exist in Type column\")  "
   ]
  },
  {
   "cell_type": "code",
   "execution_count": 23,
   "id": "2631c68e",
   "metadata": {},
   "outputs": [
    {
     "name": "stdout",
     "output_type": "stream",
     "text": [
      "No unrelateable data exist in Comments column\n"
     ]
    }
   ],
   "source": [
    "# As Comments column has 2447 data, we can't review all unique values in bare eyes. \n",
    "# Therefore, we check closely Comments column to find unrelateable string data\n",
    "is_comments = False\n",
    "for comment in df_new_dataset.Comments:    \n",
    "    if comment == 'No comment' or comment == 'Undefined':\n",
    "        is_comments = True\n",
    "        print(comment)\n",
    "    else:\n",
    "        pass\n",
    "if is_comments:\n",
    "    print(\"Unrelatable data exists\")\n",
    "else:\n",
    "    print(\"No unrelateable data exist in Comments column\")  "
   ]
  },
  {
   "cell_type": "markdown",
   "id": "ee8e7511",
   "metadata": {},
   "source": [
    "- As we will work with states of USA, so we will derive `state`, `city` and `Zip_Code`  from `location` column."
   ]
  },
  {
   "cell_type": "code",
   "execution_count": 24,
   "id": "1f8c7d12",
   "metadata": {},
   "outputs": [],
   "source": [
    "# Derive City from Location\n",
    "def city_location(location):\n",
    "    return location.split(',')[0].strip()\n",
    "df_new_dataset['City'] = df_new_dataset['Location'].apply(city_location)"
   ]
  },
  {
   "cell_type": "code",
   "execution_count": 25,
   "id": "e7781db3",
   "metadata": {},
   "outputs": [
    {
     "name": "stdout",
     "output_type": "stream",
     "text": [
      "Total no. of cities: 200\n",
      "All cities: ['San Francisco' 'Hackensack' 'Poughkeepsie' 'Plano' 'Syracuse'\n",
      " 'Federal Way' 'Dallas' 'Renton' 'Ithaca' 'Vancouver' 'Kirkland' 'Albany'\n",
      " 'Montclair' 'Princeton' 'Pasadena' 'Bellevue' 'Saratoga Springs'\n",
      " 'Anaheim' 'Frisco' 'Atlantic City' 'Bothell' 'San Diego' 'Seattle'\n",
      " 'Teaneck' 'Santa Monica' 'Staten Island' 'Toms River' 'Laredo'\n",
      " 'Bakersfield' 'Los Angeles' 'Amarillo' 'Long Beach' 'New York City'\n",
      " 'Freehold' 'Austin' 'Fresno' 'Berkeley' 'Yonkers' 'San Jose' 'Fort Worth'\n",
      " 'Riverside' 'Newport Beach' 'Waco' 'Huntington Beach' 'Kennewick'\n",
      " 'Ship Bottom' 'El Paso' 'Forest Hills' 'Puyallup' 'Sacramento'\n",
      " 'Bellingham' 'Tustin' 'Spokane Valley' 'Kent' 'Cherry Hill'\n",
      " 'New Brunswick' 'Katy' 'Everett' 'The Woodlands' 'Palm Springs'\n",
      " 'Cedar Grove' 'Elizabeth' 'South Ozone Park' 'Newark' 'Glendale'\n",
      " 'Hermosa Beach' 'Costa Mesa' 'Richardson' 'Lubbock' 'Redmond'\n",
      " 'Ocean City' 'Niagara Falls' 'Yakima' 'Brownsville' 'Corpus Christi'\n",
      " 'Irving' 'Houston' 'Spring' 'Portland' 'Brick' 'Spokane' 'San Antonio'\n",
      " 'Highland Park' 'Stockton' 'Tacoma' 'Wayne' 'Schenectady' 'Flushing'\n",
      " 'Astoria' 'Oakland' 'Santa Ana' 'Long Island City' 'Olympia' 'Brooklyn'\n",
      " 'La Quinta' 'Irvine' 'Arlington' 'Jersey City' 'Lynnwood' 'McAllen'\n",
      " 'Stanwood' 'Coupeville' 'Torrance' 'Orange' 'Beach Haven' 'Redondo Beach'\n",
      " 'Woodland Park' 'East Elmhurst' 'Bronx' 'Jamaica' 'Pharr' 'Rancho Mirage'\n",
      " 'Paterson' 'Ewing' 'Barnegat Light' 'Metuchen' 'Jackson Heights'\n",
      " 'Fair Lawn' 'Trenton' 'Edison' 'Buffalo' 'Yardley' 'West Orange'\n",
      " 'White Plains' 'Howard Beach' 'Clifton' 'Alameda' 'Elmwood Park'\n",
      " 'Hawthorne' 'Palm Desert' 'Rensselaer' 'Sunnyside' 'Garden Grove'\n",
      " 'Garland' 'La Jolla' 'Mukilteo' 'Somerset' 'Fort Lee' 'Totowa'\n",
      " 'Cathedral City' 'Rochester' 'Hasbrouck Heights' 'Corona' 'Hamilton'\n",
      " 'Woodside' 'Bordentown' 'Oak Harbor' 'Morrisville' 'South Pasadena'\n",
      " 'Bronxville' 'East Newark' 'Langley' 'Westmont' 'Surf City' 'Maywood'\n",
      " 'Lawrenceville' 'Bloomfield' 'South Hackensack' 'Rochelle Park' 'Clovis'\n",
      " 'Mill Creek' 'Fullerton' 'Marysville' 'Rego Park' 'Teterboro'\n",
      " 'Port Townsend' 'Harrison' 'Tenafly' 'Edgewater' 'Harvey Cedars'\n",
      " 'Emeryville' 'Indio' 'Lakewood' 'Hoboken' 'Edmonds' 'Chula Vista'\n",
      " 'Beachwood' 'Addison' 'Kew Gardens' 'Lincoln Park' 'Long Beach Township'\n",
      " 'Bayville' 'Nutley' 'Ozone Park' 'Elmhurst' 'Freeland' 'Paramus'\n",
      " 'New Milford' 'Collingswood' 'Passaic' 'Rutherford' 'Haddonfield'\n",
      " 'Haledon' 'Cresskill' 'Fairfield' 'Linden' 'Pompton Plains' 'Bogota'\n",
      " 'Piscataway' 'Bayside']\n"
     ]
    }
   ],
   "source": [
    "print(f'Total no. of cities: {len(df_new_dataset.City.unique())}')\n",
    "print(f'All cities: {df_new_dataset.City.unique()}')"
   ]
  },
  {
   "cell_type": "code",
   "execution_count": 26,
   "id": "5d22a49b",
   "metadata": {},
   "outputs": [],
   "source": [
    "# Derive State from Location\n",
    "def state_location(location):\n",
    "        if len(location.split(',')) == 2:\n",
    "            return location.split(',')[1][:3].strip() \n",
    "        else:\n",
    "            return location.split(',')[2][:3].strip() \n",
    "        \n",
    "df_new_dataset['State'] = df_new_dataset['Location'].apply(state_location)"
   ]
  },
  {
   "cell_type": "code",
   "execution_count": 27,
   "id": "00cd5dc1",
   "metadata": {},
   "outputs": [
    {
     "name": "stdout",
     "output_type": "stream",
     "text": [
      "Total no. of states: 8\n",
      "All states: ['CA' 'NJ' 'NY' 'TX' 'WA' 'OR' 'PA' '']\n"
     ]
    }
   ],
   "source": [
    "print(f'Total no. of states: {len(df_new_dataset.State.unique())}')\n",
    "print(f'All states: {df_new_dataset.State.unique()}')"
   ]
  },
  {
   "cell_type": "markdown",
   "id": "f96b680a",
   "metadata": {},
   "source": [
    "- `CA` (California) state droped out from the dataset as we droped `NaN` values from `Type` and `comments` Columns. We have five different states of USA named `New Jersy`, `New York`, `Texas`, `Washington`, `Oregon` and `Pennsylvania`. "
   ]
  },
  {
   "cell_type": "code",
   "execution_count": 28,
   "id": "52b86571",
   "metadata": {},
   "outputs": [],
   "source": [
    "# Ensure the CA state's resturants have no comments from users \n",
    "# df_new_dataset[df_new_dataset[\"State\"]==\"CA\"][[\"Name\",\"State\",\"Comments\"]].to_csv(\"State_CA_Resturants_Comments.csv\")"
   ]
  },
  {
   "cell_type": "code",
   "execution_count": 29,
   "id": "6d59fac5",
   "metadata": {},
   "outputs": [
    {
     "name": "stdout",
     "output_type": "stream",
     "text": [
      "Follwing Columns have missing values:\n"
     ]
    },
    {
     "data": {
      "text/plain": [
       "Name                0\n",
       "Street_Address      0\n",
       "Location            0\n",
       "Type               13\n",
       "Reviews             0\n",
       "No_of_Reviews       0\n",
       "Comments          615\n",
       "Price_Range         0\n",
       "City                0\n",
       "State               0\n",
       "dtype: int64"
      ]
     },
     "execution_count": 29,
     "metadata": {},
     "output_type": "execute_result"
    }
   ],
   "source": [
    "# Find dataset's overall missing values per columns\n",
    "print('Follwing Columns have missing values:')\n",
    "df_new_dataset.isnull().sum()"
   ]
  },
  {
   "cell_type": "markdown",
   "id": "d06d4a98",
   "metadata": {},
   "source": [
    "- From above table we can see that `Type` and `comments` have 13 and 615 visible missing values. Lets drop these two columns NaN values"
   ]
  },
  {
   "cell_type": "code",
   "execution_count": 30,
   "id": "0265307b",
   "metadata": {},
   "outputs": [
    {
     "data": {
      "text/plain": [
       "Name              0\n",
       "Street_Address    0\n",
       "Location          0\n",
       "Type              0\n",
       "Reviews           0\n",
       "No_of_Reviews     0\n",
       "Comments          0\n",
       "Price_Range       0\n",
       "City              0\n",
       "State             0\n",
       "dtype: int64"
      ]
     },
     "execution_count": 30,
     "metadata": {},
     "output_type": "execute_result"
    }
   ],
   "source": [
    "# Drop NaN values\n",
    "df_new_dataset.dropna(inplace=True, axis=0)\n",
    "df_new_dataset.isnull().sum()"
   ]
  },
  {
   "cell_type": "code",
   "execution_count": 31,
   "id": "4be97a6e",
   "metadata": {},
   "outputs": [
    {
     "data": {
      "text/html": [
       "<div>\n",
       "<style scoped>\n",
       "    .dataframe tbody tr th:only-of-type {\n",
       "        vertical-align: middle;\n",
       "    }\n",
       "\n",
       "    .dataframe tbody tr th {\n",
       "        vertical-align: top;\n",
       "    }\n",
       "\n",
       "    .dataframe thead th {\n",
       "        text-align: right;\n",
       "    }\n",
       "</style>\n",
       "<table border=\"1\" class=\"dataframe\">\n",
       "  <thead>\n",
       "    <tr style=\"text-align: right;\">\n",
       "      <th></th>\n",
       "      <th>Name</th>\n",
       "      <th>Street_Address</th>\n",
       "      <th>Location</th>\n",
       "      <th>Type</th>\n",
       "      <th>Reviews</th>\n",
       "      <th>No_of_Reviews</th>\n",
       "      <th>Comments</th>\n",
       "      <th>Price_Range</th>\n",
       "      <th>City</th>\n",
       "      <th>State</th>\n",
       "    </tr>\n",
       "  </thead>\n",
       "  <tbody>\n",
       "    <tr>\n",
       "      <th>2617</th>\n",
       "      <td>The Watermark</td>\n",
       "      <td>6361 Fallsview Blvd</td>\n",
       "      <td>Niagara Falls, Ontario L2G 3V9,</td>\n",
       "      <td>American, Canadian, Contemporary</td>\n",
       "      <td>4</td>\n",
       "      <td>1342</td>\n",
       "      <td>Our dining experience at The Watermark this pa...</td>\n",
       "      <td>Expensive</td>\n",
       "      <td>Niagara Falls</td>\n",
       "      <td></td>\n",
       "    </tr>\n",
       "  </tbody>\n",
       "</table>\n",
       "</div>"
      ],
      "text/plain": [
       "               Name       Street_Address                          Location  \\\n",
       "2617  The Watermark  6361 Fallsview Blvd  Niagara Falls, Ontario L2G 3V9,    \n",
       "\n",
       "                                   Type Reviews No_of_Reviews  \\\n",
       "2617   American, Canadian, Contemporary       4          1342   \n",
       "\n",
       "                                               Comments Price_Range  \\\n",
       "2617  Our dining experience at The Watermark this pa...   Expensive   \n",
       "\n",
       "               City State  \n",
       "2617  Niagara Falls        "
      ]
     },
     "execution_count": 31,
     "metadata": {},
     "output_type": "execute_result"
    }
   ],
   "source": [
    "# Check empty string in State column \n",
    "df_new_dataset[df_new_dataset['State'] == '']"
   ]
  },
  {
   "cell_type": "code",
   "execution_count": 32,
   "id": "a5b1bbe0",
   "metadata": {},
   "outputs": [],
   "source": [
    "# Drop empty string in State column\n",
    "df_new_dataset.drop(df_new_dataset[(df_new_dataset['State'] == '')].index, inplace=True)"
   ]
  },
  {
   "cell_type": "markdown",
   "id": "a9082eae",
   "metadata": {},
   "source": [
    "- We checked empty string as we found its existance deriving from State column's unique value. We droped the row that contain `province of Canada`(i.e. empty string in State column) as we will work with states of USA. "
   ]
  },
  {
   "cell_type": "code",
   "execution_count": 33,
   "id": "a4452c40",
   "metadata": {},
   "outputs": [],
   "source": [
    "# Derive Zip_Code from Location\n",
    "def zipcode_location(zipcode):\n",
    "    return zipcode.split(\",\")[-1].split(\" \")[-1]\n",
    "        \n",
    "df_new_dataset['Zip_Code'] = df_new_dataset['Location'].apply(zipcode_location)"
   ]
  },
  {
   "cell_type": "code",
   "execution_count": 34,
   "id": "139178eb",
   "metadata": {},
   "outputs": [],
   "source": [
    "# Drop Location column\n",
    "df_new_dataset = df_new_dataset.drop(['Location'], axis=1)"
   ]
  },
  {
   "cell_type": "markdown",
   "id": "017dcb80",
   "metadata": {},
   "source": [
    "We also droped the `Location` column as we got our desired column `City`, `State` and `Zip_Code` from it."
   ]
  },
  {
   "cell_type": "code",
   "execution_count": 35,
   "id": "f8c1f7c6",
   "metadata": {},
   "outputs": [
    {
     "name": "stdout",
     "output_type": "stream",
     "text": [
      "<class 'pandas.core.frame.DataFrame'>\n",
      "Int64Index: 2439 entries, 1 to 3061\n",
      "Data columns (total 10 columns):\n",
      " #   Column          Non-Null Count  Dtype \n",
      "---  ------          --------------  ----- \n",
      " 0   Name            2439 non-null   object\n",
      " 1   Street_Address  2439 non-null   object\n",
      " 2   Type            2439 non-null   object\n",
      " 3   Reviews         2439 non-null   object\n",
      " 4   No_of_Reviews   2439 non-null   object\n",
      " 5   Comments        2439 non-null   object\n",
      " 6   Price_Range     2439 non-null   object\n",
      " 7   City            2439 non-null   object\n",
      " 8   State           2439 non-null   object\n",
      " 9   Zip_Code        2439 non-null   object\n",
      "dtypes: object(10)\n",
      "memory usage: 209.6+ KB\n"
     ]
    }
   ],
   "source": [
    "# Dataset info droping all NaN values and non required row(s) and column(s)\n",
    "df_new_dataset.info()"
   ]
  },
  {
   "cell_type": "markdown",
   "id": "fc8ef04f",
   "metadata": {},
   "source": [
    "- Convert `Review` column's data to `float` and `No_of_Reviews` column's data to `int`. And reorder the columns."
   ]
  },
  {
   "cell_type": "code",
   "execution_count": 36,
   "id": "3f4ff076",
   "metadata": {},
   "outputs": [],
   "source": [
    "# Review column's data to float\n",
    "df_new_dataset['Reviews'] = df_new_dataset['Reviews'].apply(float)"
   ]
  },
  {
   "cell_type": "code",
   "execution_count": 37,
   "id": "fe761bad",
   "metadata": {},
   "outputs": [],
   "source": [
    "# Convert No_of_Reviews column's data to int\n",
    "df_new_dataset['No_of_Reviews'] = df_new_dataset['No_of_Reviews'].apply(int)"
   ]
  },
  {
   "cell_type": "code",
   "execution_count": 38,
   "id": "55fee541",
   "metadata": {},
   "outputs": [],
   "source": [
    "# Reordering columns\n",
    "df_new_dataset = df_new_dataset.loc[:,['Name', 'Street_Address', 'State', 'City', 'Zip_Code', 'Type', 'Reviews', 'No_of_Reviews', 'Comments', 'Price_Range']]"
   ]
  },
  {
   "cell_type": "markdown",
   "id": "05732aca",
   "metadata": {},
   "source": [
    "- Reset index as we dropped some columns and rows "
   ]
  },
  {
   "cell_type": "code",
   "execution_count": 39,
   "id": "5d57e687",
   "metadata": {},
   "outputs": [
    {
     "name": "stdout",
     "output_type": "stream",
     "text": [
      "Basic info of dataset:\n",
      "\n",
      "<class 'pandas.core.frame.DataFrame'>\n",
      "RangeIndex: 2439 entries, 0 to 2438\n",
      "Data columns (total 10 columns):\n",
      " #   Column          Non-Null Count  Dtype  \n",
      "---  ------          --------------  -----  \n",
      " 0   Name            2439 non-null   object \n",
      " 1   Street_Address  2439 non-null   object \n",
      " 2   State           2439 non-null   object \n",
      " 3   City            2439 non-null   object \n",
      " 4   Zip_Code        2439 non-null   object \n",
      " 5   Type            2439 non-null   object \n",
      " 6   Reviews         2439 non-null   float64\n",
      " 7   No_of_Reviews   2439 non-null   int64  \n",
      " 8   Comments        2439 non-null   object \n",
      " 9   Price_Range     2439 non-null   object \n",
      "dtypes: float64(1), int64(1), object(8)\n",
      "memory usage: 190.7+ KB\n"
     ]
    }
   ],
   "source": [
    "# Reset index of dataset\n",
    "df_new_dataset.reset_index(drop=True, inplace=True)\n",
    "\n",
    "# View dataset's overall basic info by per columns\n",
    "print('Basic info of dataset:\\n') \n",
    "df_new_dataset.info()"
   ]
  },
  {
   "cell_type": "code",
   "execution_count": 40,
   "id": "1f23c20a",
   "metadata": {},
   "outputs": [],
   "source": [
    "# Save data set to .csv format\n",
    "df_new_dataset.to_csv('TripAdvisor_RestauarantRecommendation_cleandataset.csv')"
   ]
  }
 ],
 "metadata": {
  "kernelspec": {
   "display_name": "Python 3 (ipykernel)",
   "language": "python",
   "name": "python3"
  },
  "language_info": {
   "codemirror_mode": {
    "name": "ipython",
    "version": 3
   },
   "file_extension": ".py",
   "mimetype": "text/x-python",
   "name": "python",
   "nbconvert_exporter": "python",
   "pygments_lexer": "ipython3",
   "version": "3.9.12"
  }
 },
 "nbformat": 4,
 "nbformat_minor": 5
}
